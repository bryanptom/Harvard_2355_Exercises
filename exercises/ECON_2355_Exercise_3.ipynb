{
  "nbformat": 4,
  "nbformat_minor": 0,
  "metadata": {
    "colab": {
      "provenance": []
    },
    "kernelspec": {
      "name": "python3",
      "display_name": "Python 3"
    },
    "language_info": {
      "name": "python"
    },
    "accelerator": "GPU",
    "gpuClass": "standard"
  },
  "cells": [
    {
      "cell_type": "markdown",
      "source": [
        "## ECON 2355 Implementation Exercise 3: Transformers and Language Models\n",
        "\n",
        "This exercise has two parts:\n",
        " - **1: Large Language Models for Text Classification**: This task applies several modern Language models to a sentiment classification task, demonstrating downstream applications of these large language models. It also introduces the popular [huggingface](https://huggingface.co/) framework, an extremely popular API for working with these models, similar to the timm library introduced in the previous exercises.    \n",
        " - **2. Generative Language Models**: This task introduces generative language models and demonstrates their text completion abilities. It also demonstrates computing _perplexity_, a key metric for Causal LMs.\n",
        "\n",
        "### Notes on the class's implementation exercises in general:\n",
        "\n",
        " - These exercises are still being finalized! If you encounter problems please don't hesitate to reach out: tom_bryan@fas.harvard.edu\n",
        "\n",
        " - You are welcome to download these notebooks and complete them on your local machine, or work on them in colab. If you are hoping to run things on your local machine you will likely want to set up an [Anaconda](https://www.anaconda.com/products/distribution) python environment and run notebooks from either [VS Code](https://code.visualstudio.com/download) or [Jupyter Lab](https://jupyterlab.readthedocs.io/en/stable/getting_started/installation.html). For your future Deep Learning-oriented endevours, knowing how to set up an environment to run the frameworks and libraries discussed here will likely be important, so it might not be a bad idea to try setting things up locally. On the other hand, working in colab is nice for reproducibility purposes--anyone can run and/or debug your code without problems.\n",
        "\n",
        " - Exercises in this class use [PyTorch](https://pytorch.org/get-started/locally/), the [dominant](https://www.assemblyai.com/blog/pytorch-vs-tensorflow-in-2023/) research deep learning python framework. If you have a _compelling_ reason why you wish to become more familiar with another framework, like Tensorflow, reach out and we _may_ be able to accomodate that.\n",
        "\n",
        " - In these exercises we'll try to find the sweet spot between providing so much of the code that the implementation is meaningless and leaving so much that the work is overly tedious. Feedback is appreciated!\n",
        "\n",
        " - To submit the assignements, please save the exercise as a `.ipynb` file named `ECON_2355_Exercise_{n}_{firstname}_{lastname}.ipynb` and submit to the appropriate place in XXXXX  \n",
        "\n",
        " - These exercises are graded as complete/incomplete. _Complete_ is defined as showing effort to complete all of the steps.\n",
        "\n",
        " - Many of these exercises are adapted from other courses, tutorials, or other sources. Should you choose there are often other places to look for help/partial solutions. How and when you use those resources are entirely up to you and your learning style. One caveat: outside sources for exercises will likely be less and less common as we progress through the course.  "
      ],
      "metadata": {
        "id": "32E2Z8HQsdMX"
      }
    },
    {
      "cell_type": "markdown",
      "source": [
        "### Exercise Set 3: Intro to Large Language Models, Sentiment Classification with BERT, and Introp to GPT\n",
        "\n"
      ],
      "metadata": {
        "id": "9K2TOhVpwGL3"
      }
    },
    {
      "cell_type": "markdown",
      "source": [
        "### 1. Intro to Large Language Models\n",
        "\n",
        "This set of exercises introduces the huggingface `transformers` library, which provides a wide variety of pretrained language models. Pretrained language models have (hopefully) grasped much of language's structure and composition via their training procedure and can quickly generalize to other tasks.\n",
        "\n",
        "This is very similar to how vision models are pretrained on ImageNet, which gives them a broad understanding of how vision works and what features in an image might be important to making determinations about that image. In the same way, language models know how to break text down into its salient features."
      ],
      "metadata": {
        "id": "kGaep-rAtVNb"
      }
    },
    {
      "cell_type": "markdown",
      "source": [
        "Let's start with some necessary imports. Of particular note is the Huggingface `transformers` library, which will provide most of our Language Model support."
      ],
      "metadata": {
        "id": "k12N5wUHuyhc"
      }
    },
    {
      "cell_type": "code",
      "source": [
        "import os\n",
        "import torch\n",
        "from PIL import Image\n",
        "import torchvision\n",
        "from matplotlib import pyplot as plt\n",
        "from tqdm import tqdm\n",
        "import numpy as np\n",
        "from transformers import pipeline, BertTokenizer, BertModel, BertForPreTraining"
      ],
      "metadata": {
        "id": "wEuA3RbpuyPp"
      },
      "execution_count": null,
      "outputs": []
    },
    {
      "cell_type": "markdown",
      "source": [
        "BERT is a masked language model. In essence, it is trained to predict the token masked by a `[MASK]` token in a given sentence.\n",
        "\n",
        "You can see a good example of this task by using the `fill-mask` pipeline option, as shown here. Calling `unmasker` on a sentence containing the `[MASK]` token will provide the five most likely candidates for the masked word. First, we initialize the `unmasker` object:"
      ],
      "metadata": {
        "id": "mMP0kogH2PKs"
      }
    },
    {
      "cell_type": "code",
      "source": [
        "unmasker = pipeline('fill-mask', model='bert-base-uncased')"
      ],
      "metadata": {
        "colab": {
          "base_uri": "https://localhost:8080/"
        },
        "id": "LvQRZpyMlNqv",
        "outputId": "e1743ded-66fc-41e5-ac8b-2474f1e88bd3"
      },
      "execution_count": null,
      "outputs": [
        {
          "output_type": "stream",
          "name": "stderr",
          "text": [
            "Some weights of the model checkpoint at bert-base-uncased were not used when initializing BertForMaskedLM: ['bert.pooler.dense.weight', 'bert.pooler.dense.bias', 'cls.seq_relationship.weight', 'cls.seq_relationship.bias']\n",
            "- This IS expected if you are initializing BertForMaskedLM from the checkpoint of a model trained on another task or with another architecture (e.g. initializing a BertForSequenceClassification model from a BertForPreTraining model).\n",
            "- This IS NOT expected if you are initializing BertForMaskedLM from the checkpoint of a model that you expect to be exactly identical (initializing a BertForSequenceClassification model from a BertForSequenceClassification model).\n"
          ]
        }
      ]
    },
    {
      "cell_type": "markdown",
      "source": [
        "Then we can try out BERT's masked word prediction task:"
      ],
      "metadata": {
        "id": "jvtc4o7KlTQr"
      }
    },
    {
      "cell_type": "code",
      "source": [
        "unmasker('BERT is a [MASK] language model.')"
      ],
      "metadata": {
        "id": "I6z7tedUOk7n",
        "colab": {
          "base_uri": "https://localhost:8080/"
        },
        "outputId": "c479204d-6b9a-4f02-b0a7-214d9ae23b19"
      },
      "execution_count": null,
      "outputs": [
        {
          "output_type": "execute_result",
          "data": {
            "text/plain": [
              "[{'score': 0.5778862237930298,\n",
              "  'token': 3019,\n",
              "  'token_str': 'natural',\n",
              "  'sequence': 'bert is a natural language model.'},\n",
              " {'score': 0.04521975666284561,\n",
              "  'token': 4730,\n",
              "  'token_str': 'programming',\n",
              "  'sequence': 'bert is a programming language model.'},\n",
              " {'score': 0.017899544909596443,\n",
              "  'token': 10713,\n",
              "  'token_str': 'finite',\n",
              "  'sequence': 'bert is a finite language model.'},\n",
              " {'score': 0.01588580198585987,\n",
              "  'token': 8360,\n",
              "  'token_str': 'functional',\n",
              "  'sequence': 'bert is a functional language model.'},\n",
              " {'score': 0.015394698828458786,\n",
              "  'token': 5337,\n",
              "  'token_str': 'formal',\n",
              "  'sequence': 'bert is a formal language model.'}]"
            ]
          },
          "metadata": {},
          "execution_count": 5
        }
      ]
    },
    {
      "cell_type": "markdown",
      "source": [
        "Making predictions like this one of the two essential tasks of BERT. It provides the majority of its token-level understanding. As it learns to infer the masked word, it learns how language is used in context. Feel free to experiment by using different sentences and masking different characters. Are there situations where BERT does better or worse?\n",
        "\n",
        "Experimenting with these masked examples is also a good way to see some of the biases or inaccuracies enbedded in the model. Try, for example, the input sentence\n",
        "\n",
        "\n",
        "```\n",
        "My mother worked hard as a [MASK] to feed our family.\n",
        "```\n",
        "compared with\n",
        "```\n",
        "My father worked hard as a [MASK] to feed our family.\n",
        "```\n",
        "\n",
        "Note that the biases reflected in responses like this do not reflect a problem with the model _per se_, but with the training data provided to the model. BERT and models like it use words in similar contexts as they've seen previously. In this case, BERT has consistently seen \"father\" associated with historically masculine professions and \"mother\" with historically feminine ones.\n",
        "\n",
        "This also explains apparent social, moral, or political stances the model favors. See, for example, responses to:\n",
        "\n",
        "```\n",
        "Capitalism is a [MASK] idea.\n",
        "Socialism is a [MASK] idea.\n",
        "Communism is a [MASK] idea.\n",
        "```\n",
        "\n",
        "Of course, these are just annecdotal examples, although others ([1](https://arxiv.org/pdf/2004.09456.pdf), [2](https://arxiv.org/pdf/2010.00133.pdf)) have proposed methods to quantify this bias."
      ],
      "metadata": {
        "id": "Ybrh2MDs24AE"
      }
    },
    {
      "cell_type": "markdown",
      "source": [
        "##### **Applying BERT to Sentiment Classification**\n",
        "\n",
        "In the following exercises, we will use BERT to predict sentiments coresponding to tweets about US airlines. This [dataset](https://www.kaggle.com/datasets/crowdflower/twitter-airline-sentiment) comes from [Kaggle](https://www.kaggle.com/), a good repository for example datasets like this.\n",
        "\n",
        "We will teach BERT to predict sentiments by finetuning it on this particular task. In particular, we will train the model to adapt its [CLS] token to predict whether a tweet is positive, negative, or neutral in its stance towards airlines.\n",
        "\n",
        "First, let's bring in the data and show some examples. **Important:** **_You will need a Kaggle account to access this data._** You can make an account at: https://www.kaggle.com/ by clicking \"Register.\" Once you've made an account, you will need to follow the instructions [here](https://www.kaggle.com/docs/api) under **Authentication** to generate a Kaggle API key. Upload the key (the file called `kaggle.json` to colab in the default location (under `content/`) and then run the following cell to download the relevant data."
      ],
      "metadata": {
        "id": "Ek4j1zfAfzUG"
      }
    },
    {
      "cell_type": "markdown",
      "source": [
        "##### a) **Data and Examples**\n",
        "\n"
      ],
      "metadata": {
        "id": "e6h8IEA7hAEB"
      }
    },
    {
      "cell_type": "code",
      "source": [
        "!mkdir /root/.kaggle\n",
        "!cp /content/kaggle.json /root/.kaggle/kaggle.json\n",
        "!kaggle datasets download -d crowdflower/twitter-airline-sentiment -p ./airline_tweets\n",
        "!unzip /content/airline_tweets/twitter-airline-sentiment.zip"
      ],
      "metadata": {
        "id": "yXaCPW9B2o9m",
        "colab": {
          "base_uri": "https://localhost:8080/"
        },
        "outputId": "a57374aa-c02c-4b3b-cf4e-2e7e6953e805"
      },
      "execution_count": null,
      "outputs": [
        {
          "output_type": "stream",
          "name": "stdout",
          "text": [
            "Warning: Your Kaggle API key is readable by other users on this system! To fix this, you can run 'chmod 600 /root/.kaggle/kaggle.json'\n",
            "Downloading twitter-airline-sentiment.zip to ./airline_tweets\n",
            " 78% 2.00M/2.55M [00:00<00:00, 2.86MB/s]\n",
            "100% 2.55M/2.55M [00:00<00:00, 3.04MB/s]\n",
            "Archive:  /content/airline_tweets/twitter-airline-sentiment.zip\n",
            "  inflating: Tweets.csv              \n",
            "  inflating: database.sqlite         \n"
          ]
        }
      ]
    },
    {
      "cell_type": "markdown",
      "source": [
        "This dataset comes in csv format, with a series of columns, including the text of the tweet, the sentiment behind the tweet (one of `postive`, `negative`, or `neutral), and a number of other features like the date, airline the tweet refers to, etc. In this example we will use only the text of the tweet to predict its sentiment, so we will discard the remaining features.\n",
        "\n",
        "The following cell will bring the data into memory and show some illustrative examples (the data is originally sorted by airline, so they will all be from Virgin America). Click the Magic Wand symbol in the output to see things in a more readable format."
      ],
      "metadata": {
        "id": "TbZ_B91Vi-H4"
      }
    },
    {
      "cell_type": "code",
      "source": [
        "import pandas as pd\n",
        "\n",
        "tweets = pd.read_csv('Tweets.csv')[['airline_sentiment', 'text']]\n",
        "tweets.head(10)"
      ],
      "metadata": {
        "id": "lS5wyr5afx6g",
        "colab": {
          "base_uri": "https://localhost:8080/",
          "height": 363
        },
        "outputId": "ea61a490-7e2a-4300-d925-ff40b76f32f3"
      },
      "execution_count": null,
      "outputs": [
        {
          "output_type": "execute_result",
          "data": {
            "text/plain": [
              "  airline_sentiment                                               text\n",
              "0           neutral                @VirginAmerica What @dhepburn said.\n",
              "1          positive  @VirginAmerica plus you've added commercials t...\n",
              "2           neutral  @VirginAmerica I didn't today... Must mean I n...\n",
              "3          negative  @VirginAmerica it's really aggressive to blast...\n",
              "4          negative  @VirginAmerica and it's a really big bad thing...\n",
              "5          negative  @VirginAmerica seriously would pay $30 a fligh...\n",
              "6          positive  @VirginAmerica yes, nearly every time I fly VX...\n",
              "7           neutral  @VirginAmerica Really missed a prime opportuni...\n",
              "8          positive    @virginamerica Well, I didn't…but NOW I DO! :-D\n",
              "9          positive  @VirginAmerica it was amazing, and arrived an ..."
            ],
            "text/html": [
              "\n",
              "  <div id=\"df-cd8da696-f8c1-42b3-a02e-311f1e0a2662\" class=\"colab-df-container\">\n",
              "    <div>\n",
              "<style scoped>\n",
              "    .dataframe tbody tr th:only-of-type {\n",
              "        vertical-align: middle;\n",
              "    }\n",
              "\n",
              "    .dataframe tbody tr th {\n",
              "        vertical-align: top;\n",
              "    }\n",
              "\n",
              "    .dataframe thead th {\n",
              "        text-align: right;\n",
              "    }\n",
              "</style>\n",
              "<table border=\"1\" class=\"dataframe\">\n",
              "  <thead>\n",
              "    <tr style=\"text-align: right;\">\n",
              "      <th></th>\n",
              "      <th>airline_sentiment</th>\n",
              "      <th>text</th>\n",
              "    </tr>\n",
              "  </thead>\n",
              "  <tbody>\n",
              "    <tr>\n",
              "      <th>0</th>\n",
              "      <td>neutral</td>\n",
              "      <td>@VirginAmerica What @dhepburn said.</td>\n",
              "    </tr>\n",
              "    <tr>\n",
              "      <th>1</th>\n",
              "      <td>positive</td>\n",
              "      <td>@VirginAmerica plus you've added commercials t...</td>\n",
              "    </tr>\n",
              "    <tr>\n",
              "      <th>2</th>\n",
              "      <td>neutral</td>\n",
              "      <td>@VirginAmerica I didn't today... Must mean I n...</td>\n",
              "    </tr>\n",
              "    <tr>\n",
              "      <th>3</th>\n",
              "      <td>negative</td>\n",
              "      <td>@VirginAmerica it's really aggressive to blast...</td>\n",
              "    </tr>\n",
              "    <tr>\n",
              "      <th>4</th>\n",
              "      <td>negative</td>\n",
              "      <td>@VirginAmerica and it's a really big bad thing...</td>\n",
              "    </tr>\n",
              "    <tr>\n",
              "      <th>5</th>\n",
              "      <td>negative</td>\n",
              "      <td>@VirginAmerica seriously would pay $30 a fligh...</td>\n",
              "    </tr>\n",
              "    <tr>\n",
              "      <th>6</th>\n",
              "      <td>positive</td>\n",
              "      <td>@VirginAmerica yes, nearly every time I fly VX...</td>\n",
              "    </tr>\n",
              "    <tr>\n",
              "      <th>7</th>\n",
              "      <td>neutral</td>\n",
              "      <td>@VirginAmerica Really missed a prime opportuni...</td>\n",
              "    </tr>\n",
              "    <tr>\n",
              "      <th>8</th>\n",
              "      <td>positive</td>\n",
              "      <td>@virginamerica Well, I didn't…but NOW I DO! :-D</td>\n",
              "    </tr>\n",
              "    <tr>\n",
              "      <th>9</th>\n",
              "      <td>positive</td>\n",
              "      <td>@VirginAmerica it was amazing, and arrived an ...</td>\n",
              "    </tr>\n",
              "  </tbody>\n",
              "</table>\n",
              "</div>\n",
              "    <div class=\"colab-df-buttons\">\n",
              "\n",
              "  <div class=\"colab-df-container\">\n",
              "    <button class=\"colab-df-convert\" onclick=\"convertToInteractive('df-cd8da696-f8c1-42b3-a02e-311f1e0a2662')\"\n",
              "            title=\"Convert this dataframe to an interactive table.\"\n",
              "            style=\"display:none;\">\n",
              "\n",
              "  <svg xmlns=\"http://www.w3.org/2000/svg\" height=\"24px\" viewBox=\"0 -960 960 960\">\n",
              "    <path d=\"M120-120v-720h720v720H120Zm60-500h600v-160H180v160Zm220 220h160v-160H400v160Zm0 220h160v-160H400v160ZM180-400h160v-160H180v160Zm440 0h160v-160H620v160ZM180-180h160v-160H180v160Zm440 0h160v-160H620v160Z\"/>\n",
              "  </svg>\n",
              "    </button>\n",
              "\n",
              "  <style>\n",
              "    .colab-df-container {\n",
              "      display:flex;\n",
              "      gap: 12px;\n",
              "    }\n",
              "\n",
              "    .colab-df-convert {\n",
              "      background-color: #E8F0FE;\n",
              "      border: none;\n",
              "      border-radius: 50%;\n",
              "      cursor: pointer;\n",
              "      display: none;\n",
              "      fill: #1967D2;\n",
              "      height: 32px;\n",
              "      padding: 0 0 0 0;\n",
              "      width: 32px;\n",
              "    }\n",
              "\n",
              "    .colab-df-convert:hover {\n",
              "      background-color: #E2EBFA;\n",
              "      box-shadow: 0px 1px 2px rgba(60, 64, 67, 0.3), 0px 1px 3px 1px rgba(60, 64, 67, 0.15);\n",
              "      fill: #174EA6;\n",
              "    }\n",
              "\n",
              "    .colab-df-buttons div {\n",
              "      margin-bottom: 4px;\n",
              "    }\n",
              "\n",
              "    [theme=dark] .colab-df-convert {\n",
              "      background-color: #3B4455;\n",
              "      fill: #D2E3FC;\n",
              "    }\n",
              "\n",
              "    [theme=dark] .colab-df-convert:hover {\n",
              "      background-color: #434B5C;\n",
              "      box-shadow: 0px 1px 3px 1px rgba(0, 0, 0, 0.15);\n",
              "      filter: drop-shadow(0px 1px 2px rgba(0, 0, 0, 0.3));\n",
              "      fill: #FFFFFF;\n",
              "    }\n",
              "  </style>\n",
              "\n",
              "    <script>\n",
              "      const buttonEl =\n",
              "        document.querySelector('#df-cd8da696-f8c1-42b3-a02e-311f1e0a2662 button.colab-df-convert');\n",
              "      buttonEl.style.display =\n",
              "        google.colab.kernel.accessAllowed ? 'block' : 'none';\n",
              "\n",
              "      async function convertToInteractive(key) {\n",
              "        const element = document.querySelector('#df-cd8da696-f8c1-42b3-a02e-311f1e0a2662');\n",
              "        const dataTable =\n",
              "          await google.colab.kernel.invokeFunction('convertToInteractive',\n",
              "                                                    [key], {});\n",
              "        if (!dataTable) return;\n",
              "\n",
              "        const docLinkHtml = 'Like what you see? Visit the ' +\n",
              "          '<a target=\"_blank\" href=https://colab.research.google.com/notebooks/data_table.ipynb>data table notebook</a>'\n",
              "          + ' to learn more about interactive tables.';\n",
              "        element.innerHTML = '';\n",
              "        dataTable['output_type'] = 'display_data';\n",
              "        await google.colab.output.renderOutput(dataTable, element);\n",
              "        const docLink = document.createElement('div');\n",
              "        docLink.innerHTML = docLinkHtml;\n",
              "        element.appendChild(docLink);\n",
              "      }\n",
              "    </script>\n",
              "  </div>\n",
              "\n",
              "\n",
              "<div id=\"df-02d1c0cb-f20c-4d66-ae35-f335493df64d\">\n",
              "  <button class=\"colab-df-quickchart\" onclick=\"quickchart('df-02d1c0cb-f20c-4d66-ae35-f335493df64d')\"\n",
              "            title=\"Suggest charts\"\n",
              "            style=\"display:none;\">\n",
              "\n",
              "<svg xmlns=\"http://www.w3.org/2000/svg\" height=\"24px\"viewBox=\"0 0 24 24\"\n",
              "     width=\"24px\">\n",
              "    <g>\n",
              "        <path d=\"M19 3H5c-1.1 0-2 .9-2 2v14c0 1.1.9 2 2 2h14c1.1 0 2-.9 2-2V5c0-1.1-.9-2-2-2zM9 17H7v-7h2v7zm4 0h-2V7h2v10zm4 0h-2v-4h2v4z\"/>\n",
              "    </g>\n",
              "</svg>\n",
              "  </button>\n",
              "\n",
              "<style>\n",
              "  .colab-df-quickchart {\n",
              "      --bg-color: #E8F0FE;\n",
              "      --fill-color: #1967D2;\n",
              "      --hover-bg-color: #E2EBFA;\n",
              "      --hover-fill-color: #174EA6;\n",
              "      --disabled-fill-color: #AAA;\n",
              "      --disabled-bg-color: #DDD;\n",
              "  }\n",
              "\n",
              "  [theme=dark] .colab-df-quickchart {\n",
              "      --bg-color: #3B4455;\n",
              "      --fill-color: #D2E3FC;\n",
              "      --hover-bg-color: #434B5C;\n",
              "      --hover-fill-color: #FFFFFF;\n",
              "      --disabled-bg-color: #3B4455;\n",
              "      --disabled-fill-color: #666;\n",
              "  }\n",
              "\n",
              "  .colab-df-quickchart {\n",
              "    background-color: var(--bg-color);\n",
              "    border: none;\n",
              "    border-radius: 50%;\n",
              "    cursor: pointer;\n",
              "    display: none;\n",
              "    fill: var(--fill-color);\n",
              "    height: 32px;\n",
              "    padding: 0;\n",
              "    width: 32px;\n",
              "  }\n",
              "\n",
              "  .colab-df-quickchart:hover {\n",
              "    background-color: var(--hover-bg-color);\n",
              "    box-shadow: 0 1px 2px rgba(60, 64, 67, 0.3), 0 1px 3px 1px rgba(60, 64, 67, 0.15);\n",
              "    fill: var(--button-hover-fill-color);\n",
              "  }\n",
              "\n",
              "  .colab-df-quickchart-complete:disabled,\n",
              "  .colab-df-quickchart-complete:disabled:hover {\n",
              "    background-color: var(--disabled-bg-color);\n",
              "    fill: var(--disabled-fill-color);\n",
              "    box-shadow: none;\n",
              "  }\n",
              "\n",
              "  .colab-df-spinner {\n",
              "    border: 2px solid var(--fill-color);\n",
              "    border-color: transparent;\n",
              "    border-bottom-color: var(--fill-color);\n",
              "    animation:\n",
              "      spin 1s steps(1) infinite;\n",
              "  }\n",
              "\n",
              "  @keyframes spin {\n",
              "    0% {\n",
              "      border-color: transparent;\n",
              "      border-bottom-color: var(--fill-color);\n",
              "      border-left-color: var(--fill-color);\n",
              "    }\n",
              "    20% {\n",
              "      border-color: transparent;\n",
              "      border-left-color: var(--fill-color);\n",
              "      border-top-color: var(--fill-color);\n",
              "    }\n",
              "    30% {\n",
              "      border-color: transparent;\n",
              "      border-left-color: var(--fill-color);\n",
              "      border-top-color: var(--fill-color);\n",
              "      border-right-color: var(--fill-color);\n",
              "    }\n",
              "    40% {\n",
              "      border-color: transparent;\n",
              "      border-right-color: var(--fill-color);\n",
              "      border-top-color: var(--fill-color);\n",
              "    }\n",
              "    60% {\n",
              "      border-color: transparent;\n",
              "      border-right-color: var(--fill-color);\n",
              "    }\n",
              "    80% {\n",
              "      border-color: transparent;\n",
              "      border-right-color: var(--fill-color);\n",
              "      border-bottom-color: var(--fill-color);\n",
              "    }\n",
              "    90% {\n",
              "      border-color: transparent;\n",
              "      border-bottom-color: var(--fill-color);\n",
              "    }\n",
              "  }\n",
              "</style>\n",
              "\n",
              "  <script>\n",
              "    async function quickchart(key) {\n",
              "      const quickchartButtonEl =\n",
              "        document.querySelector('#' + key + ' button');\n",
              "      quickchartButtonEl.disabled = true;  // To prevent multiple clicks.\n",
              "      quickchartButtonEl.classList.add('colab-df-spinner');\n",
              "      try {\n",
              "        const charts = await google.colab.kernel.invokeFunction(\n",
              "            'suggestCharts', [key], {});\n",
              "      } catch (error) {\n",
              "        console.error('Error during call to suggestCharts:', error);\n",
              "      }\n",
              "      quickchartButtonEl.classList.remove('colab-df-spinner');\n",
              "      quickchartButtonEl.classList.add('colab-df-quickchart-complete');\n",
              "    }\n",
              "    (() => {\n",
              "      let quickchartButtonEl =\n",
              "        document.querySelector('#df-02d1c0cb-f20c-4d66-ae35-f335493df64d button');\n",
              "      quickchartButtonEl.style.display =\n",
              "        google.colab.kernel.accessAllowed ? 'block' : 'none';\n",
              "    })();\n",
              "  </script>\n",
              "</div>\n",
              "\n",
              "    </div>\n",
              "  </div>\n"
            ]
          },
          "metadata": {},
          "execution_count": 7
        }
      ]
    },
    {
      "cell_type": "markdown",
      "source": [
        "##### b) **Bringing in BERT**\n",
        "\n",
        "Now that we have our text data, we need to get a model! In this project we will use the BERT Base Uncased from huggingface. You can see more information about that model [here](https://huggingface.co/bert-base-uncased), it is essentially the same as the one described in the original [BERT paper](https://arxiv.org/pdf/1810.04805.pdf). This is one of the most common and widely used LLMs, as you can see from the model's download statistics. It's often instructive to try this model on your tasks first to get a benchmark on performance, before trying other, more task-specific models.\n",
        "\n",
        "BERT needs two objects to run in its simplest form: the `model` and the `tokenizer`. The `tokenizer` takes arbitrary text sequences and turns them into vectors for the `model`, while the `model` passes the vector through BERT's self attention mechanism to create a dense, feature-rich embedding of the sequence.\n",
        "\n",
        "The following cell will initialize both parts of BERT:"
      ],
      "metadata": {
        "id": "91zCfi2XkkTH"
      }
    },
    {
      "cell_type": "code",
      "source": [
        "tokenizer = BertTokenizer.from_pretrained('bert-base-uncased')\n",
        "model = BertForPreTraining.from_pretrained(\"bert-base-uncased\")"
      ],
      "metadata": {
        "id": "607aTOXBmfLf"
      },
      "execution_count": null,
      "outputs": []
    },
    {
      "cell_type": "markdown",
      "source": [
        "Now we can try running the model on a sample sentence:"
      ],
      "metadata": {
        "id": "xrsgaTQqmfnn"
      }
    },
    {
      "cell_type": "code",
      "source": [
        "text = \"[CLS] This is a test sentence.\"\n",
        "encoded_input = tokenizer(text, return_tensors='pt')\n",
        "output = model(**encoded_input)"
      ],
      "metadata": {
        "id": "Ilvcw1v0mkkI"
      },
      "execution_count": null,
      "outputs": []
    },
    {
      "cell_type": "markdown",
      "source": [
        "The `output` object here contains all the BERT output, which consists of (see [here](https://huggingface.co/docs/transformers/model_doc/bert#transformers.models.bert.modeling_bert.BertForPreTrainingOutput) in this case, though other BERT models will have different output formats) the final hidden states for each token, sentence relationship classification predictions, and a loss metric. You can access each of these parts separately."
      ],
      "metadata": {
        "id": "GrWLHY9OPyWL"
      }
    },
    {
      "cell_type": "markdown",
      "source": [
        "##### c) **The `[CLS]` token**\n",
        "\n",
        "You may recall from the lecture that BERT's pretraining has two parts: first, it attempts to predict masked tokens. Second, it attemps to determine if one sentence logically follows another (this is called 'entailment'). BERT input is structured like\n",
        "\n",
        "```\n",
        "[CLS] Sentence 1 [SEP] Sentence 2\n",
        "```\n",
        "\n",
        "BERT uses a classification head over the output of the `CLS` token to predict whether Sentence 2 logically follows Sentence 1. So, BERT is tuned to produce informative representations for **classifying the entire sequence** in it's `CLS` space.\n",
        "\n",
        "In a first example, let's see how BERT does at generating predictions based on its original classification task: does one sentence logically follow the other?\n",
        "\n",
        "Run the model we've initialized over some examples, some of which logically follow each other, and some of which do not. How does BERT do? You can access BERT's classification predictions via `output.seq_relationship_logits`.\n",
        "\n",
        "**Note:** The model here is not really tuned for classification, and may make incorrect predictions. However, you should see _lower_ values for the first value in `output.seq_relationship_logits` and _higher_ values (they will likely still be negative) for the second value for unrelated sentences."
      ],
      "metadata": {
        "id": "bp_jTG6jkcpn"
      }
    },
    {
      "cell_type": "code",
      "source": [
        "follows = 'The location of the earthquake places it within the vicinity of a triple junction between the Anatolian, Arabian, and African plates. The mechanism and location of the earthquake are consistent with it having occurred in either the East Anatolian Fault zone or the Dead Sea Transform Fault Zone.'\n",
        "does_not_follow = 'The Dead Sea Transform extends north–south from the Red Sea to the Marash Triple Junction where it meets the East Anatolian Fault.' + \\\n",
        "                  'Like certain other upper houses of state and territorial legislatures and the United States Senate, the state Senate can confirm or reject gubernatorial appointments to state departments, commissions, boards, and other state governmental agencies.'\n",
        "\n",
        "# Encode both sentences using the tokenizer object from before (pass 'add_special_tokens=True' as an argument to the tokenizer)\n",
        "\n",
        "# Run the model from before over the tokenized text\n",
        "\n",
        "# Check the outputs and classification scores\n",
        "print('Follows predictions: {}'.format(follows_output.seq_relationship_logits))\n",
        "print('Does not follow predictions: {}'.format(not_follows_output.seq_relationship_logits))\n"
      ],
      "metadata": {
        "id": "LWR8wDekjd4V"
      },
      "execution_count": null,
      "outputs": []
    },
    {
      "cell_type": "markdown",
      "source": [
        "##### d) **Adding a classification head**\n",
        "\n",
        "The example above produces predictions (the final `seq_relatioship_logits` pair) because it has a classification head on top. Here we add a classification head for our problem (classifying airline tweet sentiment) on top of a BERT model.\n",
        "\n",
        "Now, instead of using the `BertForPreTraining` model, we will switch to the standard `BertModel`, since we no longer need to access the pretraining behavior.\n",
        "\n",
        "What does a classification head look like? The `CLS` token outputs from the model as a dense, 768-dimensional vector. We will add several linear layers to produce a three-dimensional output, and then add a softmax layer to produce probabilities for each of the classes, positive, negative, and neutral."
      ],
      "metadata": {
        "id": "coQTursvzeqM"
      }
    },
    {
      "cell_type": "code",
      "source": [
        "class BertSentimentClassifier(torch.nn.Module):\n",
        "  def __init__(self, bert_model):\n",
        "    super(BertSentimentClassifier, self).__init__()\n",
        "    self.bert_model = bert_model\n",
        "\n",
        "    # TODO: Create a linear layer and softmax to move from a 768 dimensional vector to a three-dimensional probability vector\n",
        "\n",
        "  def forward(self, input_ids, mask):\n",
        "    _, pooled_output = self.bert_model(input_ids = input_ids, attention_mask = mask, return_dict = False)\n",
        "    # TODO: run the linear layer and softmax over the pooled output (a 768-d vector)\n",
        "    return"
      ],
      "metadata": {
        "id": "znX6pWlOrlwV"
      },
      "execution_count": null,
      "outputs": []
    },
    {
      "cell_type": "markdown",
      "source": [
        "Now initialize `bert_model` as a `transformers.BertModel` object with pretrained weights from `bert-base-uncased`, `tokenizer` as a `transformers.BertTokenizer` object with weights from the same location, and `model` as an instance of our custom classifer class with `bert_model` as its base model."
      ],
      "metadata": {
        "id": "4vIMWTAJdA-R"
      }
    },
    {
      "cell_type": "code",
      "source": [
        "# TODO: create a BERT model as described above\n",
        "bert_model =\n",
        "\n",
        "# TODO: create a BERT Tokenizer as described above\n",
        "tokenizer =\n",
        "\n",
        "# TODO: create an instance of the custom classifer model with bert_model as the base model\n",
        "model =\n"
      ],
      "metadata": {
        "id": "m9YaSlfF1rI9"
      },
      "execution_count": null,
      "outputs": []
    },
    {
      "cell_type": "markdown",
      "source": [
        "##### e) **Preparing to train the model**\n",
        "\n",
        "Now that we have our encoder, custom model, and data all initialized, we need to set up the standard elements for a PyTorch training loop (similar to the first two exercise sets). In particular, we will need to create PyTorch datasts and dataloaders, an optimizer,"
      ],
      "metadata": {
        "id": "Q0hGD70_4TR7"
      }
    },
    {
      "cell_type": "markdown",
      "source": [
        "First, we apply a mapping to the data to get numeric classication values."
      ],
      "metadata": {
        "id": "CQ3KqOY_Qh0Y"
      }
    },
    {
      "cell_type": "code",
      "source": [
        "mapping = {'negative': 0,\n",
        "           'neutral': 1,\n",
        "           'positive': 2}\n",
        "\n",
        "# TODO: Encode the semtiment classifications by creating a new column in the dataframe (hint `pd.apply` may be useful)\n",
        "tweets['enc_sentiment'] ="
      ],
      "metadata": {
        "id": "Lwx4zFWD4RoG"
      },
      "execution_count": null,
      "outputs": []
    },
    {
      "cell_type": "markdown",
      "source": [
        "Next, we need to create a dataset object for this dataset. `X` should be the actual texts, while `y` should be the encoded semtiment values."
      ],
      "metadata": {
        "id": "Rrwsb9efQrMx"
      }
    },
    {
      "cell_type": "code",
      "source": [
        "# TODO: Finish implementing the TweetDataset object\n",
        "class TweetDataset:\n",
        "  def __init__(self, tweet_data):\n",
        "\n",
        "  def __len__(self):\n",
        "\n",
        "  def __getitem__(self, i):\n"
      ],
      "metadata": {
        "id": "MdKxbs134FkH"
      },
      "execution_count": null,
      "outputs": []
    },
    {
      "cell_type": "markdown",
      "source": [
        "Then, as usual, we need to create train, test, and validation sets. We also need to create `torch.utils.data.DataLoader` objects from the various datasets. Let's again use **80% train, 10% validation, and 10% test.**"
      ],
      "metadata": {
        "id": "Fo0jrglMQ5Jc"
      }
    },
    {
      "cell_type": "code",
      "source": [
        "tweet_dataset = TweetDataset(tweets)\n",
        "\n",
        "# TODO: Split data into three sets, with proportions defined above\n",
        "train_set, val_set, test_set =\n",
        "\n",
        "# TODO: Create dataloaders for the data\n",
        "train_loader =\n",
        "val_loader =\n",
        "test_loader ="
      ],
      "metadata": {
        "id": "_dflhVne7AY0"
      },
      "execution_count": null,
      "outputs": []
    },
    {
      "cell_type": "markdown",
      "source": [
        "Now we need to create the remaining objects for our training loop. Move the model to the GPU and create a `CrossEntropyLoss` loss function and an `Adam` optimizer."
      ],
      "metadata": {
        "id": "BcYvy5L0RPHf"
      }
    },
    {
      "cell_type": "code",
      "source": [
        "learning_rate = 1e-6\n",
        "\n",
        "#TODO: Move the model to the GPU\n",
        "model =\n",
        "\n",
        "# TODO: create an Adam optimizer for the model\n",
        "optim =\n",
        "\n",
        "# TODO: create a cross entropy loss function\n",
        "loss_fn ="
      ],
      "metadata": {
        "id": "O0xW2-fY7GRi"
      },
      "execution_count": null,
      "outputs": []
    },
    {
      "cell_type": "markdown",
      "source": [
        "##### f) **Training the model**\n",
        "\n",
        "Finally, create a training loop for this model. This will look very similar to previous training loops, with a few exceptions:\n",
        "- Input will have to be tokenized _before_ being moved onto the GPU (sine the tokenizer is still on the CPU)\n",
        "- Both the `input_ids` and `attention_mask` attribues of the encoded input will need to be moved to the GPU\n",
        "- Running the model over the input data will need to take both the input ids and attention mask as inputs"
      ],
      "metadata": {
        "id": "SdrX_x7SRuY3"
      }
    },
    {
      "cell_type": "code",
      "source": [
        "num_epochs = 5\n",
        "\n",
        "for _ in range(num_epochs):\n",
        "\n",
        "  model.train()\n",
        "  for X, y in tqdm(train_loader):\n",
        "    # TODO: tokenize the input\n",
        "\n",
        "    # TODO: move the encoded input ids, encoded attention mask, and y to the GPU\n",
        "\n",
        "    # TODO: Run the model over the input, compute the loss, zero the gradients, backpropagate, and step the optimzer\n",
        "\n",
        "  model.eval()\n",
        "  n_correct = 0\n",
        "  for X, y in tqdm(val_loader):\n",
        "    # TODO: complete the evaulation loop, computing validation accuracy\n",
        "\n",
        "  print(f'Val Accuracy epoch {_ + 1}: {n_correct / len(val_set)}')"
      ],
      "metadata": {
        "id": "4t1D4oFm8BaH"
      },
      "execution_count": null,
      "outputs": []
    },
    {
      "cell_type": "markdown",
      "source": [
        "After five epochs, you should see accuracy in the 80-90% range. If you don't, consider checking the model you defined earlier for any possible errors."
      ],
      "metadata": {
        "id": "SJF-kzGjYrm9"
      }
    },
    {
      "cell_type": "markdown",
      "source": [
        "##### g) **A more direct approach**\n",
        "\n",
        "While we can adapt the general BERT model to just about any task, there are also many models (provided by huggingface or other sites) pretrained for a specific task. In the majority of cases, if you have a widely-used data source (like twitter, in our case) and a broad, often-explored task (like sentiment classification, in our case) there is likely a variety of pretrained models to choose from.\n",
        "\n",
        "When conducting social science research, we usually want to choose models best suited for our tasks to minimize the training and compute time needed. Spending some time finding models pre-trained for a data source or task can improve performance and save a lot of time.\n",
        "\n",
        "In this case we can use the [Twitter-roBERTa for Sentiment Analysis](https://huggingface.co/cardiffnlp/twitter-roberta-base-sentiment-latest) model, provided through huggingface by [a team of NLP researchers with the University of Cardiff](https://arxiv.org/pdf/2202.03829.pdf). This model is much easier to work with and can be expected to provide more initial knowledge than the first. It:\n",
        "- Has been pretrained on tweets, unlike BERT\n",
        "- Has already been finetuned to classify sentiments\n",
        "\n",
        "The code below will intialize the model and tokenizer for you:"
      ],
      "metadata": {
        "id": "EVsVyGZbWbHK"
      }
    },
    {
      "cell_type": "code",
      "source": [
        "from transformers import AutoModelForSequenceClassification\n",
        "from transformers import AutoTokenizer, AutoConfig\n",
        "\n",
        "MODEL = f\"cardiffnlp/twitter-roberta-base-sentiment-latest\"\n",
        "tokenizer = AutoTokenizer.from_pretrained(MODEL)\n",
        "config = AutoConfig.from_pretrained(MODEL)\n",
        "roberta_model = AutoModelForSequenceClassification.from_pretrained(MODEL)"
      ],
      "metadata": {
        "colab": {
          "base_uri": "https://localhost:8080/"
        },
        "id": "aP32lMa3VR2C",
        "outputId": "4361c323-81c3-4177-d3a8-75a554e9d494"
      },
      "execution_count": null,
      "outputs": [
        {
          "output_type": "stream",
          "name": "stderr",
          "text": [
            "Some weights of the model checkpoint at cardiffnlp/twitter-roberta-base-sentiment-latest were not used when initializing RobertaForSequenceClassification: ['roberta.pooler.dense.bias', 'roberta.pooler.dense.weight']\n",
            "- This IS expected if you are initializing RobertaForSequenceClassification from the checkpoint of a model trained on another task or with another architecture (e.g. initializing a BertForSequenceClassification model from a BertForPreTraining model).\n",
            "- This IS NOT expected if you are initializing RobertaForSequenceClassification from the checkpoint of a model that you expect to be exactly identical (initializing a BertForSequenceClassification model from a BertForSequenceClassification model).\n"
          ]
        }
      ]
    },
    {
      "cell_type": "markdown",
      "source": [
        "Inputting a sequence into the model will produce a list of pre-softmax outputs for Negative, Neutral, and Positive. We will need to recreate a custom classifier, but **the only change you should need to make from the earlier classifier is removing the linear layer** (since that is provided in the finetuned model)"
      ],
      "metadata": {
        "id": "Ask8Dh_oY7kw"
      }
    },
    {
      "cell_type": "code",
      "source": [
        "# TODO Create a RoBerta sentiment classifer, very similar to the previous custom classifier.\n",
        "class RoBertaSentimentClassifier(torch.nn.Module):\n",
        "  def __init__(self, bert_model):\n",
        "    super(RoBertaSentimentClassifier, self).__init__()\n",
        "    self.bert_model = bert_model\n",
        "\n",
        "    # TOOD: Create a softmax layer\n",
        "    self.softmax = torch.nn.Softmax()\n",
        "\n",
        "  def forward(self, input_ids, mask):\n",
        "    pooled_output = self.bert_model(input_ids = input_ids, attention_mask = mask, return_dict = False)[0]\n",
        "\n",
        "    # TODO: run softmax over the output\n",
        "    return"
      ],
      "metadata": {
        "id": "FyBVZep0Yl0P"
      },
      "execution_count": null,
      "outputs": []
    },
    {
      "cell_type": "markdown",
      "source": [
        "Now we need to move the model to the GPU, and create an optimizer and loss function again."
      ],
      "metadata": {
        "id": "7RjvzyHcZ3hv"
      }
    },
    {
      "cell_type": "code",
      "source": [
        "learning_rate = 1e-6\n",
        "model = RoBertaSentimentClassifier(roberta_model)\n",
        "\n",
        "#TODO: Move the model to the GPU\n",
        "model =\n",
        "\n",
        "# TODO: create an Adam optimizer for the model\n",
        "optim =\n",
        "\n",
        "# TODO: create a cross entropy loss function\n",
        "loss_fn ="
      ],
      "metadata": {
        "id": "7u-V-2XOZ0SI"
      },
      "execution_count": null,
      "outputs": []
    },
    {
      "cell_type": "markdown",
      "source": [
        "This model should preform well zero-shot on our data, but we can improve preformance by training a bit more on our specific dataset (so that the model can get used to airline-specific terms, for example).\n",
        "\n",
        "In this last step, you need to recreate the training loop from above. It should be an exact copy-paste. We should make one adjustment, however: run an validation loop _first_ (before doing any training) so that you can measure the model's zero-shot performance. How much does the model improve from that benchmark? Does the model converge faster or slower than the bert-base model? Is final accuracy (after five epochs) higher or lower?"
      ],
      "metadata": {
        "id": "cg3tuTiRaFlN"
      }
    },
    {
      "cell_type": "code",
      "source": [
        "num_epochs = 5\n",
        "\n",
        "# TODO: complete an evaulation loop BEFORE training, computing zero-shot accuracy\n",
        "\n",
        "for _ in range(num_epochs):\n",
        "\n",
        "  # TODO complete training loop as above (should be copy-paste)\n",
        "\n"
      ],
      "metadata": {
        "id": "ybTIheMqZ_Nm"
      },
      "execution_count": null,
      "outputs": []
    },
    {
      "cell_type": "markdown",
      "source": [
        "Hopefully this exercise has provided a window into not only sentiment classification, but downstream language tasks in general. The system used here (finding a pretrained model, adapting it to a specific task, and then finetuning) will generalize well across datasets and language tasks."
      ],
      "metadata": {
        "id": "vTe_kj4jb8n2"
      }
    },
    {
      "cell_type": "markdown",
      "source": [
        "### 2. Generative Language Models\n",
        "\n",
        "This brief exercise introduces Generative Language Models, focusing on GPT-2. Generative Language Models are trained for next token prediction, meaning they try to predict the next word in a sequence.\n",
        "\n",
        "Here we experiment with a generative model, use it to generate text, and introduce **perplexity,** a measure of how likely the model thinks a particular token is given its context.  "
      ],
      "metadata": {
        "id": "9j2RExAJqU1J"
      }
    },
    {
      "cell_type": "markdown",
      "source": [
        "##### a) **Generating Text**\n",
        "\n",
        "First, let's create a GPT-2 model. GPT-2 is a causal language model created by OpenAI. It uses a similar architecture to recent, advanced models like Chat GPT and GPT-4. However, GPT-2's largest version contains 1.5 Billion parameters while GPT-4 is [rumored](https://en.wikipedia.org/wiki/GPT-4) to use over 1 trillion.\n",
        "\n",
        "You can read lots more about GPT-2 in [its original paper](https://d4mucfpksywv.cloudfront.net/better-language-models/language_models_are_unsupervised_multitask_learners.pdf).\n",
        "\n",
        "Let's start by initializing a pipeline to start experimenting with GPT-2:"
      ],
      "metadata": {
        "id": "wDFPDEN2sa4D"
      }
    },
    {
      "cell_type": "code",
      "source": [
        "from transformers import pipeline, set_seed\n",
        "generator = pipeline('text-generation', model='gpt2-medium')\n",
        "set_seed(42)"
      ],
      "metadata": {
        "id": "SifdAK2xsXi-"
      },
      "execution_count": 12,
      "outputs": []
    },
    {
      "cell_type": "markdown",
      "source": [
        "Now, just like with BERT, we can use the `pipeline` to generate text completing sample sequences:"
      ],
      "metadata": {
        "id": "WPAHd2BDvq9G"
      }
    },
    {
      "cell_type": "code",
      "source": [
        "generator(\"Generative Language models are useful for\", max_length=15, num_return_sequences=5)"
      ],
      "metadata": {
        "id": "2GFavM5rqZCl"
      },
      "execution_count": null,
      "outputs": []
    },
    {
      "cell_type": "markdown",
      "source": [
        "The model being used here is not particularly advanced, so completions will not be of the quality/aparent intelligence of models like Chat GPT, if you are familiar with its outputs. If you would like, experiment with a few more input sequences and see what the model can and cannot do. On many tasks, GPT-2 will do much, much worse than more recent GPT models. On SQUaD, an open-domain question answering benchmark, GPT-2 correctly answers only 4.1% of questions.\n",
        "\n",
        "For example, you might try requesting facts like:\n",
        "\n",
        "```\n",
        "Who was the first president of the United States?\n",
        "```\n",
        "\n",
        "which GPT-2 will likely fail to answer correctly.\n"
      ],
      "metadata": {
        "id": "COyc7KAgwOSZ"
      }
    },
    {
      "cell_type": "markdown",
      "source": [
        "Importantly, **GPT-2 Can Require a lot of context to perform typical language model tasks.** For example, prompting with an example like the following (taken from the [CoQA dataset](https://stanfordnlp.github.io/coqa/)), the model is much more likely to be successful:"
      ],
      "metadata": {
        "id": "HLD0Ug52MsXU"
      }
    },
    {
      "cell_type": "code",
      "source": [
        "text = \"The 2008 Summer Olympics torch relay was run from March 24 until August 8, 2008, prior to the 2008 Summer Olympics, with the theme of “one world, one dream”. Plans for the relay were announced on April 26, 2007, in Beijing, China. The relay, also called by the organizers as the “Journey of Harmony”, lasted 129 days and carried the torch 137,000 km (85,000 mi) – the longest distance of any Olympic torch relay since the tradition was started ahead of the 1936 Summer Olympics.\\n After being lit at the birthplace of the Olympic Games in Olympia, Greece on March 24, the torch traveled to the Panathinaiko Stadium in Athens, and then to Beijing, arriving on March 31. From Beijing, the torch was following a route passing through six continents. The torch has visited cities along the Silk Road, symbolizing ancient links between China and the rest of the world. The relay also included an ascent with the flame to the top of Mount Everest on the border of Nepal and Tibet, China from the Chinese side, which was closed specially for the event.\\n Q: What was the theme\\n A: “one world, one dream”.\\n Q: What was the length of the race?\\n A: 137,000 km\\n Q: Was it larger than previous ones?\\n A: No\\n Q: Where did the race begin?\\n A: Olympia, Greece\\n Q: Is there anything notable about that place?\\n A: birthplace of Olympic Games\\n Q: Where did they go after?\\n A: Athens\\n Q: How many days was the race?\\n A: seven\\n Q: Did they visit any notable landmarks?\\n A: Panathinako Stadium\\n Q: Did they climb any mountains?\\n A:\"\n",
        "\n",
        "result = generator(text, max_length=400, num_return_sequences=1)[0]['generated_text']\n",
        "completion = result.split('Did they climb any mountains?')[1]\n",
        "\n",
        "print('**Prompt**\\n\\n')\n",
        "print(text)\n",
        "print('\\n\\n**Completion**\\n\\n')\n",
        "print(completion)"
      ],
      "metadata": {
        "id": "WQdaZeeoB3Ha"
      },
      "execution_count": null,
      "outputs": []
    },
    {
      "cell_type": "markdown",
      "source": [
        "##### b) Comparing Likelihoods & Perplexity\n",
        "\n",
        "Given the apparent weaknesses in GPT-2's question answering abilities, in what senses did it represent a breakthrough in generative language modeling? For many language tasks, OpenAI compared the likelyhood of several words and confirmed than its predictions more strongly predicted the correct words.\n",
        "\n",
        "**First**, let's take a closer look at how GPT-2 is making its predictions. We'll start by importing a few necessary objects:"
      ],
      "metadata": {
        "id": "dqWCHxBsinBF"
      }
    },
    {
      "cell_type": "code",
      "source": [
        "from transformers import AutoModelForCausalLM, AutoTokenizer\n",
        "import numpy\n",
        "import torch"
      ],
      "metadata": {
        "id": "s9gRW50uBZBW"
      },
      "execution_count": 2,
      "outputs": []
    },
    {
      "cell_type": "markdown",
      "source": [
        "Now we will create a tokenizer and model for GPT-2, in a very similar way to how we worked with BERT earlier in the exercise:"
      ],
      "metadata": {
        "id": "DvszGpooBgOk"
      }
    },
    {
      "cell_type": "code",
      "source": [
        "tokenizer = AutoTokenizer.from_pretrained(\"gpt2\")\n",
        "model = AutoModelForCausalLM.from_pretrained(\"gpt2\")"
      ],
      "metadata": {
        "id": "z8sHwCEDCXOe"
      },
      "execution_count": null,
      "outputs": []
    },
    {
      "cell_type": "markdown",
      "source": [
        "Now we can use the model for determining the likelihood of a word, according to GPT-2's training. The following example shows how to compute the five most likely words following a passage:"
      ],
      "metadata": {
        "id": "8IrBu4B4C3dL"
      }
    },
    {
      "cell_type": "code",
      "source": [
        "text = 'Economics is a very interesting' #Sample sentence\n",
        "inputs = tokenizer(text, return_tensors='pt') # Tokenize the input with the pretrained GPT-2 tokenizer\n",
        "logits = model(**inputs).logits # Use the model to get scores for each word\n",
        "\n",
        "# print(logits.shape) # logits is a score for each token in the vocabulary for each word in the sequence, plus the next word following the sequence\n",
        "\n",
        "final_word_logits = logits[0, -1, :] # Get the scores for the next word\n",
        "pred_indices = torch.topk(final_word_logits, 5).indices # Get the five most likely completing words\n",
        "pred_probs = torch.softmax(final_word_logits, 0)[pred_indices] # Find the corresponding softmax likelihoods\n",
        "\n",
        "# Print the five most likely completing words with their softmax likelihoods\n",
        "for idx, prob in zip(pred_indices, pred_probs):\n",
        "    print(tokenizer.decode(idx.item()), round(prob.item(), 2))"
      ],
      "metadata": {
        "id": "YrR6NOAqGyW8"
      },
      "execution_count": null,
      "outputs": []
    },
    {
      "cell_type": "markdown",
      "source": [
        "**Perplexity**\n",
        "\n",
        "\n",
        "[Perplexity](https://en.wikipedia.org/wiki/Perplexity) measures the model's \"surprise\" at seeing new data. Essentially, it models how well a model's training allows it to model a new sentence. In particular, Perplexity is the exponent of the model's loss, which is the average negative log likelyhood of each word in the sequence given its context:\n",
        "\n",
        "![image.png](data:image/png;base64,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)\n"
      ],
      "metadata": {
        "id": "vozaqDjH1ZBC"
      }
    },
    {
      "cell_type": "markdown",
      "source": [
        "The **final part of this exercise** is to create a function that computes the perplexity of a sentence. The function should take in a `tokenizer` object, a `model` object, and a text sentence. It should then compute $log( p_\\theta(x_i|x_{<i}))$ for each word in the sentence, using the preceding text as the context. It then uses those log likelihoods to compute the perplexity. The skeleton of the function, as well as a few tips for writing it are provided.\n",
        "\n",
        "You can view Huggingface's implementation of GPT-2 perplexity [here](https://github.com/huggingface/transformers/blob/abf8f54a019ce14b5eaffa68c6dd883be13fe66e/src/transformers/models/openai/modeling_openai.py#L592). (Although this does not include the exponential.) However, consider trying a more readable, iterative approach like the one outlined below.\n",
        "\n",
        "**Important**: The first word in the sequence is **not** considered when computing perplexity."
      ],
      "metadata": {
        "id": "2pzjV83vK-GU"
      }
    },
    {
      "cell_type": "code",
      "source": [
        "# TODO: Create the get_perplexity function\n",
        "def get_perplexity(tokenizer, model, text = \"Economics is a very interesting topic\"):\n",
        "\n",
        "  # Tokenize the inputs\n",
        "\n",
        "  # Run the inputs through the model, saving the logits\n",
        "\n",
        "  # Initialize loss at zero\n",
        "  loss = torch.tensor(0.0)\n",
        "\n",
        "  # For each logit index (not including the last one), compute the log of softmax probilities.\n",
        "  # Then, look up the logged softmax probibility of the NEXT (i + 1) token in the input sequence.\n",
        "  # That value is p(x_i | x_<i)\n",
        "  # Sum those values\n",
        "\n",
        "\n",
        "  # Take the exponential of the negative average of summed likelihoods\n",
        "\n",
        "  # Return the result\n"
      ],
      "metadata": {
        "id": "2e_k14LpIcrv"
      },
      "execution_count": 89,
      "outputs": []
    },
    {
      "cell_type": "markdown",
      "source": [
        "Test your function here! Use the tokenizer and model created at the beginning of (b). For the default sentence, the result should be ~27.3"
      ],
      "metadata": {
        "id": "8mrrRsLIQVI7"
      }
    },
    {
      "cell_type": "code",
      "source": [
        "get_perplexity(tokenizer, model, text = 'Economics is a very interesting topic')"
      ],
      "metadata": {
        "id": "uOddD2FKNXDA"
      },
      "execution_count": null,
      "outputs": []
    },
    {
      "cell_type": "markdown",
      "source": [
        "Perplexity is a measure of how \"Surprised\" the model is to see that text. How does changing the adjective (\"interesting\") change the perplexity?"
      ],
      "metadata": {
        "id": "eBAgx6qWQi3i"
      }
    },
    {
      "cell_type": "markdown",
      "source": [
        "**Measuring Model Performance**\n",
        "\n",
        "Perplexity is often used to measure a model's performance. One way to do this is testing the model's ability to resolve ambiguities in text. One common benchmark for testing ambiguity resolution is the [Winograd Schema Challenge](https://en.wikipedia.org/wiki/Winograd_schema_challenge).\n",
        "\n",
        "In a [common formulation](https://arxiv.org/pdf/1806.02847.pdf) models are asked to compare sentences with ambiguous words. For example:\n",
        "\n",
        "_\"The trophy doesn't fit in the suitcase because **it** is too big.\"_\n",
        "\n",
        "What is too big? If the model \"understands\" the sentence well, it will realize that **it** refers to the trophy, since it would be illogical for it to refer to the suitcase.\n",
        "\n",
        "To test the model, we can compare perplexity on the two possible resolutions:"
      ],
      "metadata": {
        "id": "m0xyp9ozR-72"
      }
    },
    {
      "cell_type": "code",
      "source": [
        "print(get_perplexity(tokenizer, model, text = 'The trophy doesn\\'t fit in the suitcase because the suitcase is too big.'))\n",
        "print(get_perplexity(tokenizer, model, text = 'The trophy doesn\\'t fit in the suitcase because the trophy is too big.'))"
      ],
      "metadata": {
        "id": "7YHdtUglTQmZ"
      },
      "execution_count": null,
      "outputs": []
    },
    {
      "cell_type": "markdown",
      "source": [
        "Which sentence is the model more surprised to see? You can try the model out on a few more examples (found [here](https://cs.nyu.edu/~davise/papers/WinogradSchemas/WS.html)) or try creating your own."
      ],
      "metadata": {
        "id": "7gp03R8kTXLB"
      }
    },
    {
      "cell_type": "markdown",
      "source": [
        "**An easier way to do this**\n",
        "\n",
        "In practice, we probably wouldn't compute the perplexity of a sentence like this. Huggingface has implementing this behind the scenes. For a shortcut, we can just compute the model's overall loss and take the exponential. Importantly, this demonstrates the overall goal of training-- reduce perplexity on the training data.\n",
        "\n",
        "Here is the simplified code:"
      ],
      "metadata": {
        "id": "iSN46EqRRGfS"
      }
    },
    {
      "cell_type": "code",
      "source": [
        "inputs = tokenizer(\"Economics is a very interesting topic\", return_tensors='pt')\n",
        "loss = model(input_ids = inputs['input_ids'], labels = inputs['input_ids']).loss\n",
        "\n",
        "perplexity = torch.exp(loss)\n",
        "print(perplexity)"
      ],
      "metadata": {
        "id": "WE7uIDEAP7rx"
      },
      "execution_count": null,
      "outputs": []
    }
  ]
}