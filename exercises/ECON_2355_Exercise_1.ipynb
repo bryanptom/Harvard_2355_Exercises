{
  "nbformat": 4,
  "nbformat_minor": 0,
  "metadata": {
    "colab": {
      "provenance": [],
      "collapsed_sections": [
        "BD5-8R-t5A9q"
      ]
    },
    "kernelspec": {
      "name": "python3",
      "display_name": "Python 3"
    },
    "language_info": {
      "name": "python"
    },
    "gpuClass": "standard",
    "accelerator": "GPU"
  },
  "cells": [
    {
      "cell_type": "markdown",
      "source": [
        "## ECON 2355 Implementation Exercise 1: Deep Learning Review\n",
        "\n",
        "Welcome to Econ 2355! This first exercise is meant to be a review of some basic Deep Learning concepts, and reminder of some basic python implementation tools. \n",
        "\n",
        "### Notes on the class's implementation exercises in general:\n",
        "\n",
        " - These exercises are still being finalized! If you encounter problems please don't hesitate to reach out: tom_bryan@fas.harvard.edu\n",
        "\n",
        " - You are welcome to download these notebooks and complete them on your local machine, or work on them in colab. **Working on them in Colab is strongly recommended.** If you are hoping to run things on your local machine you will likely want to set up an [Anaconda](https://www.anaconda.com/products/distribution) python environment and run notebooks from either [VS Code](https://code.visualstudio.com/download) or [Jupyter Lab](https://jupyterlab.readthedocs.io/en/stable/getting_started/installation.html). For your future Deep Learning-oriented endevours, knowing how to set up an environment to run the frameworks and libraries discussed here may be important, depending on the project. However, working in colab is nice for reproducibility purposes--anyone can run and/or debug your code without problems. \n",
        "\n",
        " - Exercises in this class use [PyTorch](https://pytorch.org/get-started/locally/), the [dominant](https://www.assemblyai.com/blog/pytorch-vs-tensorflow-in-2023/) research deep learning python framework. \n",
        "\n",
        " - In these exercises we'll try to find the sweet spot between providing so much of the code that the implementation is meaningless and leaving so much that the work is overly tedious. Feedback is appreciated!\n",
        "\n",
        " - To submit the assignements, please save the exercise as a `.ipynb` file named `ECON_2355_Exercise_{n}_{firstname}_{lastname}.ipynb` and submit to the appropriate assignment in Canvas. To save, go File > Download > Download .ipynb.\n",
        " \n",
        " - These exercises are graded as complete/incomplete. _Complete_ is defined as showing effort to complete at least half of the steps.\n",
        "\n",
        " - Many of these exercises are adapted from other courses, tutorials, or other sources. Like any good social scientist, I list those sources, so should you choose there are often other places to look for help/partial solutions. How and when you use those resources are entirely up to you and your learning style. One caveat: outside sources for exercises will likely be less and less common as we progress through the course.  "
      ],
      "metadata": {
        "id": "lbQzJukbwpqm"
      }
    },
    {
      "cell_type": "markdown",
      "source": [
        "### Exercise Set 1: Deep Learning Basics\n",
        "\n",
        "This exercise has two main parts: The first is optional and gives an overview of PyTorch Tensor syntax. In the second we'll construct some simple neural nets, train them, and use them to approximate a few mathematical functions and predict clusters."
      ],
      "metadata": {
        "id": "Xivlulcn1qwy"
      }
    },
    {
      "cell_type": "markdown",
      "source": [
        "#### Part 1: PyTorch Review\n",
        "\n",
        "Complete this section _only_ if you feel you need or want an intro/reminder of PyTorch tensor syntax and operations. If you already feel comfortable, go ahead and skip to section 1.\n",
        "\n",
        "PyTorch is a python library based on the Torch ML framework. All of this course's labs will involve PyTorch, though the degree that PyTorch is explicitly visible will vary. \n",
        "\n",
        "(Adapted from [BYU Deep Learning](mind.cs.byu.edu/courses/474))"
      ],
      "metadata": {
        "id": "BD5-8R-t5A9q"
      }
    },
    {
      "cell_type": "code",
      "source": [
        "!pip3 install torch\n",
        "!pip3 install torchvision\n",
        "!pip3 install tqdm"
      ],
      "metadata": {
        "id": "94n6hN9gIfGE",
        "colab": {
          "base_uri": "https://localhost:8080/"
        },
        "outputId": "48c8142a-4d8c-492d-8c05-6abd8b2f6c3f"
      },
      "execution_count": 17,
      "outputs": [
        {
          "output_type": "stream",
          "name": "stdout",
          "text": [
            "Looking in indexes: https://pypi.org/simple, https://us-python.pkg.dev/colab-wheels/public/simple/\n",
            "Requirement already satisfied: torch in /usr/local/lib/python3.8/dist-packages (1.13.1+cu116)\n",
            "Requirement already satisfied: typing-extensions in /usr/local/lib/python3.8/dist-packages (from torch) (4.4.0)\n",
            "Looking in indexes: https://pypi.org/simple, https://us-python.pkg.dev/colab-wheels/public/simple/\n",
            "Requirement already satisfied: torchvision in /usr/local/lib/python3.8/dist-packages (0.14.1+cu116)\n",
            "Requirement already satisfied: torch==1.13.1 in /usr/local/lib/python3.8/dist-packages (from torchvision) (1.13.1+cu116)\n",
            "Requirement already satisfied: numpy in /usr/local/lib/python3.8/dist-packages (from torchvision) (1.21.6)\n",
            "Requirement already satisfied: typing-extensions in /usr/local/lib/python3.8/dist-packages (from torchvision) (4.4.0)\n",
            "Requirement already satisfied: requests in /usr/local/lib/python3.8/dist-packages (from torchvision) (2.25.1)\n",
            "Requirement already satisfied: pillow!=8.3.*,>=5.3.0 in /usr/local/lib/python3.8/dist-packages (from torchvision) (7.1.2)\n",
            "Requirement already satisfied: chardet<5,>=3.0.2 in /usr/local/lib/python3.8/dist-packages (from requests->torchvision) (4.0.0)\n",
            "Requirement already satisfied: idna<3,>=2.5 in /usr/local/lib/python3.8/dist-packages (from requests->torchvision) (2.10)\n",
            "Requirement already satisfied: urllib3<1.27,>=1.21.1 in /usr/local/lib/python3.8/dist-packages (from requests->torchvision) (1.24.3)\n",
            "Requirement already satisfied: certifi>=2017.4.17 in /usr/local/lib/python3.8/dist-packages (from requests->torchvision) (2022.12.7)\n",
            "Looking in indexes: https://pypi.org/simple, https://us-python.pkg.dev/colab-wheels/public/simple/\n",
            "Requirement already satisfied: tqdm in /usr/local/lib/python3.8/dist-packages (4.64.1)\n"
          ]
        }
      ]
    },
    {
      "cell_type": "code",
      "source": [
        "import torch #PyTorch is imported like any other python library\n",
        "import numpy as np"
      ],
      "metadata": {
        "id": "Vz2TLmlx4_QQ"
      },
      "execution_count": 16,
      "outputs": []
    },
    {
      "cell_type": "markdown",
      "source": [
        "The basic PyTorch data structure is the Tensor. Tensors are $\\geq0$ dimensional structures that hold rectangular arrays of data. Tensors are implemented similarly to NumPy arrays, and much of what can be done in NumPy can also be done in PyTorch, though the syntax may difer.\n",
        "\n",
        "Here you will work through several Tensor tasks, each asking you to preform a different manipulation on a tensor. Throughout this course you will need to be comfortable looking up [documentation for PyTorch](https://pytorch.org/docs/stable/index.html) and other (often much less well documented) libraries. Practice by looking up the needed syntax for each operation. Documentation for the first two tasks are provided in the hints, you will need to find the rest. "
      ],
      "metadata": {
        "id": "HTTuS_Nm6tFL"
      }
    },
    {
      "cell_type": "markdown",
      "source": [
        "Task 1\n",
        "\n",
        "Construct a 5x10 tensor named `a` of ones, and of dtype `long`\n",
        "[hint](https://pytorch.org/docs/stable/generated/torch.ones.html)\n",
        "\n",
        "Print out `a.size()` to verify the tensor is the correct shape."
      ],
      "metadata": {
        "id": "8U3DR3gZ8Yl2"
      }
    },
    {
      "cell_type": "code",
      "source": [
        "a = \n",
        "a.size()"
      ],
      "metadata": {
        "id": "o-_Toi7o6LlJ"
      },
      "execution_count": null,
      "outputs": []
    },
    {
      "cell_type": "markdown",
      "source": [
        "Task 2\n",
        "\n",
        "Knowing how to manipulate Tensor dimensions is frequently important. \n",
        "\n",
        "Change `a` from a 5x10 tensor into a 5x1x10 tensor. [hint](https://pytorch.org/docs/stable/generated/torch.unsqueeze.html)\n",
        "\n",
        "Print out the `size` again to verify the change worked as expected."
      ],
      "metadata": {
        "id": "K8MzwtCA9SbF"
      }
    },
    {
      "cell_type": "code",
      "source": [
        "\n",
        "a.size()"
      ],
      "metadata": {
        "id": "17gySICW1phL"
      },
      "execution_count": null,
      "outputs": []
    },
    {
      "cell_type": "markdown",
      "source": [
        "Task 3\n",
        "\n",
        "Transpose `a` along several axes, making it 10x5x1 tensor"
      ],
      "metadata": {
        "id": "IQHKG1LZ-B5u"
      }
    },
    {
      "cell_type": "code",
      "execution_count": null,
      "metadata": {
        "id": "sGjr1Btdwcym"
      },
      "outputs": [],
      "source": [
        "\n",
        "a.size()"
      ]
    },
    {
      "cell_type": "markdown",
      "source": [
        "Task 4\n",
        "\n",
        "Remove the third dimension, making `a` a 10x5 tensor. "
      ],
      "metadata": {
        "id": "FQy_kEyL-Tmk"
      }
    },
    {
      "cell_type": "code",
      "source": [
        "\n",
        "a.size()"
      ],
      "metadata": {
        "id": "0zWTnlHE-3ag"
      },
      "execution_count": null,
      "outputs": []
    },
    {
      "cell_type": "markdown",
      "source": [
        "Task 5\n",
        "\n",
        "Preform a series of mathematical operations on `a`, as indicated in the comments"
      ],
      "metadata": {
        "id": "MZTex0DUwnF4"
      }
    },
    {
      "cell_type": "code",
      "source": [
        "# Multiply all values in a by the constant 2\n",
        "\n",
        "# Add 6 to all values in a\n",
        "\n",
        "# Subtract 4 from the value at the 2nd row, 3rd column of a\n",
        "\n",
        "# Divide all values in a's 4th row by 3\n",
        "\n",
        "# Create a second tensor of ones, b, also 10x5. \n",
        "\n",
        "# Add add b to a\n",
        "\n",
        "# Create a tensor of random numbers named c,\n",
        "# with each number drawn from the uniform distribution\n",
        "# on [0, 1). Make this tensor's shape 5x8.\n",
        "\n",
        "# Tensors often cannot preform mathematical operations with tensors\n",
        "# of other data types. Change a's type to float\n",
        "\n",
        "# Matrix multiply a and c, call the result d\n",
        "\n",
        "# Flatten d into a one dimensional array\n",
        "\n",
        "# Turn d into a numpy array\n",
        "\n",
        "# Turn d back into a tensor\n",
        "\n",
        "# Print d's shape to verify all is right\n",
        "d.size()"
      ],
      "metadata": {
        "id": "f6Pv7-it_Jpr"
      },
      "execution_count": null,
      "outputs": []
    },
    {
      "cell_type": "markdown",
      "source": [
        "Task 6\n",
        "\n",
        "Tensor operations are much faster when run on a GPU. Colab gives access to GPUs in its free version. If you are working through this exercise on a local machine and _do not_ have GPU access, skip this step for now. Future exercises will require GPU access, however. \n",
        "\n",
        "If you are working through this exercise on a local machine and _do_ have GPU access, the following may be instructive (if using Jupyter):\n",
        "https://cschranz.medium.com/set-up-your-own-gpu-based-jupyterlab-e0d45fcacf43\n",
        "\n",
        "If you are working through this exercise in Google Colab, running on a GPU is easy! Go to Runtime->Change Runtime Type and change \"Hardware Accelerator\" to GPU. You will have to restart the runtime (meaning you will lose all saved variables and will need to rerun the above lines) when this change occurs. \n",
        "\n",
        "For this task, complete the GPU-related tasks in the comments"
      ],
      "metadata": {
        "id": "HA39xJ5dBS7b"
      }
    },
    {
      "cell_type": "code",
      "source": [
        "# Verify that a GPU is available\n",
        "assert torch.cuda.is_available()\n",
        "\n",
        "# Create a:\n",
        "a = torch.ones((8, 10), dtype=torch.long)\n",
        "\n",
        "# Move a onto the gpu\n",
        "a.cuda()\n",
        "\n",
        "# Create a tensor of ones named b, the same size as a. \n",
        "# Initialize b on the GPU (do this in one line)\n",
        "\n",
        "# Operations between tensors will only work if they are\n",
        "# on the same device. Add b to a\n",
        "\n",
        "# Tensors can (mostly) only be converted to other formats\n",
        "# from the CPU. Move a back to the cpu and convert it to a \n",
        "# numpy array\n",
        "a = a.cpu().numpy()\n",
        "\n",
        "assert isinstance(a, np.ndarray)"
      ],
      "metadata": {
        "id": "NYbEzhpNAR-M"
      },
      "execution_count": 23,
      "outputs": []
    },
    {
      "cell_type": "markdown",
      "source": [
        "We've explored a relatively small portion of the [possible tensor operations](https://pytorch.org/docs/stable/tensors.html), but hopefully this has helped to introduce PyTorch/jog your memory!\n",
        "\n",
        "With that that knowledge at hand, we're ready to use PyTorch to create a first Neural Net."
      ],
      "metadata": {
        "id": "ipKg0EeHF3sp"
      }
    },
    {
      "cell_type": "markdown",
      "source": [
        "#### Part 2: Deep Learning Basics\n",
        "\n",
        "These exercises ask you to apply PyTorch gradient descent to create models to make predictions in three different cases. The main idea is to get comfortable with a standard PyTorch training loop. PyTorch does a fantastic job abstracting much of the math and data wrangling away, so long as one uses its objects. "
      ],
      "metadata": {
        "id": "U4iilVYXGQlg"
      }
    },
    {
      "cell_type": "markdown",
      "source": [
        "##### a) **Parameter Estimation**\n",
        "\n",
        "(Adapted from [PyTorch Tutorials](https://pytorch.org/tutorials/beginner/pytorch_with_examples.html))\n",
        "\n",
        "In this first example we directly use Newton's Method to estimate the parameters of a fouth degree polynomial that approximates the function $f(x) = sin(x)$ over the period $[-2\\pi, 2\\pi]$. \n",
        "\n",
        "I.e. given $p(x) = ax^3 + bx^2 + cx + d$, we want to find $a, b, c,$ and $d$ such that $\\int_{-2\\pi}^{2\\pi} (f(x) - p(x))^2 dx$ is minimized.  \n",
        "\n",
        "While we will not use Deep Learning to find those parameters _per se_, this example is extremely instructive because it illustrates the general framework of any _supervised_ Deep Learning problem. I/e. any problem where we can find/create labels on known data and want to make predictions about unseen data. In a simplified form, most problems are solved by:\n",
        "1. Finding/making labeled training data for a problem.\n",
        "2. Determining the format/shape of the model you will use to make predictions. Set initial parameter values.\n",
        "3. Successively estimating optimal model parameters via repeated backpropagation.\n",
        "4. Evaluate to estimated model on a validation set. \n",
        "5. Repeat (2-4) with a variety of model forms and hyperparmameters to find an optimal solution. \n",
        "\n",
        "The following steps will walk through these five steps for the problem stated above: "
      ],
      "metadata": {
        "id": "0N-DQIX9JXeA"
      }
    },
    {
      "cell_type": "code",
      "source": [
        "import torch\n",
        "import math\n",
        "from matplotlib import pyplot as plt"
      ],
      "metadata": {
        "id": "tZYEQ5e1JRcW"
      },
      "execution_count": 24,
      "outputs": []
    },
    {
      "cell_type": "markdown",
      "source": [
        "First, create training data: "
      ],
      "metadata": {
        "id": "xUX5Z3cEMEhE"
      }
    },
    {
      "cell_type": "code",
      "source": [
        "# Set X as a tensor with 2000 evenly spaced values between -2pi and 2pi\n",
        "X = torch.linspace(-math.pi, math.pi, 2000)\n",
        "# Set Y as a tensor with the function f(x) = sin(x) at each value of X\n",
        "Y = torch.sin(X)"
      ],
      "metadata": {
        "id": "7dZQ1UnjJS-b"
      },
      "execution_count": 25,
      "outputs": []
    },
    {
      "cell_type": "markdown",
      "source": [
        "And then plot the target function"
      ],
      "metadata": {
        "id": "UCNdwM-5MyLF"
      }
    },
    {
      "cell_type": "code",
      "source": [
        "plt.plot(X, Y)\n",
        "plt.show()"
      ],
      "metadata": {
        "id": "nQ0OfoYiIkkA",
        "colab": {
          "base_uri": "https://localhost:8080/",
          "height": 265
        },
        "outputId": "613b5c3c-14a8-4e11-92d8-c62857343e93"
      },
      "execution_count": 26,
      "outputs": [
        {
          "output_type": "display_data",
          "data": {
            "text/plain": [
              "<Figure size 432x288 with 1 Axes>"
            ],
            "image/png": "[encoded data removed]"
          },
          "metadata": {
            "needs_background": "light"
          }
        }
      ]
    },
    {
      "cell_type": "code",
      "source": [
        "#Start with parameters initialized to random values\n",
        "a, b, c, d = torch.randn(()), torch.randn(()), torch.randn(()), torch.randn(())"
      ],
      "metadata": {
        "id": "hdLSExGC8NVd"
      },
      "execution_count": 27,
      "outputs": []
    },
    {
      "cell_type": "markdown",
      "source": [
        "An important parameter in gradient descent is the step size, commonly called the \"Learning Rate.\" Often the optimal learning rate will need to be empirically determined. Choose a value here--you may need to come back and update later!"
      ],
      "metadata": {
        "id": "T_2-0Q2ANSec"
      }
    },
    {
      "cell_type": "code",
      "source": [
        "learning_rate ="
      ],
      "metadata": {
        "id": "LU3GrfY15W_B"
      },
      "execution_count": 28,
      "outputs": []
    },
    {
      "cell_type": "markdown",
      "source": [
        "We'll now set up a _training loop_ to estimate our model. Training loops implement part (3) of the above recipie: estimating optimal model parameters via repeated backpropagation. The essential steps are:\n",
        "\n",
        "- For n _epochs_ do:\n",
        "  - Get the model's output at each data point (The _forward pass_)\n",
        "  - Compare the model's outputs to the correct values using a _loss function_\n",
        "  - Use backpropagation to find the model's gradient for each parameter (The _backward pass_)\n",
        "  - Update parameters according to their gradients\n",
        "\n",
        "In the next section, fill in the indicated lines to use these steps to optimize the parameters in our toy example. We will use Mean Squared Error (MSE) as the loss function:\n",
        "\n",
        "$$L(y, \\hat{y}) = \\sum_{i=1}^n (\\hat{y}_i - y_i)^2$$\n",
        "\n",
        "To compute the gradients (really just the derivatives in this case) with respect to the loss, remember that the chain rule applies here, so we will have:\n",
        "\n",
        "$$\\frac{dL}{d\\hat{y}} = 2(\\hat{y}_i - y_i)$$\n",
        "\n",
        "Which then gives:\n",
        "\n",
        "$$\\frac{dL}{da} = \\frac{dL}{d\\hat{y}} \\frac{d\\hat{y}}{da} = \\frac{dL}{d\\hat{y}} \\frac{dp(\\hat{x})}{da} = 2(\\hat{y}_i - y_i)\\hat{x}^4$$\n",
        "\n"
      ],
      "metadata": {
        "id": "gasgP1Wr5mP6"
      }
    },
    {
      "cell_type": "code",
      "source": [
        "n_epochs = 1000\n",
        "\n",
        "for _ in range(n_epochs):\n",
        "\n",
        "  # Run each value through the model (we do this as a batch)\n",
        "  y_preds = a * X**3 + b * X**2 + c * X + d\n",
        "  \n",
        "  # TOOD: Compute the loss according to the formula above\n",
        "\n",
        "  # Compute the gradient of y_preds with respect to the loss\n",
        "  grad_y_preds = 2.0 * (y_preds - Y)\n",
        "\n",
        "  # Compute the gradient with respect to a\n",
        "  grad_a = (grad_y_preds * X**3).sum()\n",
        "  \n",
        "  # TODO: Compute gradient with respect to the other parameters\n",
        "\n",
        "  # Update a with gradient descent\n",
        "  a -= learning_rate * grad_a\n",
        "  \n",
        "  # TODO: Update the other parameters using gradient descent\n",
        "  "
      ],
      "metadata": {
        "id": "KuF1HpNr5i5s"
      },
      "execution_count": 29,
      "outputs": []
    },
    {
      "cell_type": "markdown",
      "source": [
        "Great! Now let's check how we did by plotting the estimated curve"
      ],
      "metadata": {
        "id": "eJStrxwyKKY-"
      }
    },
    {
      "cell_type": "code",
      "source": [
        "plt.plot(X, Y, label='f(x) = sin(x)')\n",
        "plt.plot(X, a * X**3 + b * X**2 + c * X + d, label = 'Estimated params')\n",
        "plt.legend()\n",
        "plt.show()"
      ],
      "metadata": {
        "id": "hkf5xME4IWwo",
        "colab": {
          "base_uri": "https://localhost:8080/",
          "height": 265
        },
        "outputId": "746d4f62-8347-4b0e-b0a0-5b1e4edb1dab"
      },
      "execution_count": 30,
      "outputs": [
        {
          "output_type": "display_data",
          "data": {
            "text/plain": [
              "<Figure size 432x288 with 1 Axes>"
            ],
            "image/png": "[encoded data removed]"
          },
          "metadata": {
            "needs_background": "light"
          }
        }
      ]
    },
    {
      "cell_type": "markdown",
      "source": [
        "We should see a relatively good approximation of $sin(x)$. (Not perfect). If the solution doesn't look right, or if the parameter values are `nan`, try adjusting the learning rate above! Hint: something $\\leq 10^{-6}$ may be needed."
      ],
      "metadata": {
        "id": "iG0sM-YNPWM8"
      }
    },
    {
      "cell_type": "markdown",
      "source": [
        "##### b) **Parameter Estimation in PyTorch Style**\n",
        "\n",
        "(Also adapted from [PyTorch Tutorials](https://pytorch.org/tutorials/beginner/pytorch_with_examples.html))\n",
        "\n",
        "In this example we will repeat the same exercise as above, but in a more PyTorch-y style. Most of this is filled in for you, as an instructive example. First, let's mention a few key PyTorch objects:\n",
        "\n",
        "1. Modules (`torch.nn.module`) are the base class for all neural network models. All models are a subclass of `module`. In addition, most sub-parts of models you create will be subclasses of `module`. Subclasses must implement a few key functions:\n",
        "  - `__init__` constructs the model\n",
        "  - `forward` Defines the way a module processes data to create an output\n",
        "  - `backward` Computes the gradient for each parameter in the model.\n",
        "  - Note: the `__call__` method in `module` calls `forward`\n",
        "\n",
        "2. DataLoaders (`torch.utils.data.DataLoader`) combines two things:\n",
        "  - A Dataset (`torch.utils.data.Dataset`)\n",
        "  - A Sampler (` torch.utils.data.Sampler`) Note, the sampler is often ommited, since default behavior is usually sufficent\n",
        "To produce an interatable dataset batched in an appropriate way\n",
        "\n",
        "In this section we will re-implement the earlier example with these new objects"
      ],
      "metadata": {
        "id": "PliXP_21QRA0"
      }
    },
    {
      "cell_type": "code",
      "source": [
        "# Redefine our X and Y data\n",
        "x = torch.linspace(-math.pi, math.pi, 2000)\n",
        "y = torch.sin(x)\n",
        "\n",
        "## First, in this example it is easier to precompute the powers of x. We create a (2000x3) tensor 'xx' with \n",
        "# [ [ x^1 ],\n",
        "#   [ x^2 ],\n",
        "#   [ x^3 ] ]\n",
        "# \n",
        "p = torch.tensor([1, 2, 3])\n",
        "xx = x.unsqueeze(-1).pow(p)"
      ],
      "metadata": {
        "id": "3V0zEFFJQEPt"
      },
      "execution_count": 31,
      "outputs": []
    },
    {
      "cell_type": "markdown",
      "source": [
        "First we will set up our model. A few useful PyTorch sub modules for this exercise:\n",
        "\n",
        " - Linear Layers ([`torch.nn.Linear`](https://pytorch.org/docs/stable/generated/torch.nn.Linear.html)) are fully connected layers. They apply the transformation $y = xA^T + b$ where $x$ is input data of dimension $(w_i, h_i)$, $A$ is a matrix of weights with dimensions $(w_j, h_j)$, and $b$ is a matrix of biases with dimension $(w_i, w_j)$. The layer is initialized by calling `torch.nn.Linear(w_i, w_j)`\n",
        " - Flatten \"Layer\" ([`torch.nn.Flatten`](https://pytorch.org/docs/stable/generated/torch.nn.Flatten.html)) flattens a tensor by eliminating $\\geq1$ dimension and \"flattening\" the data into the remaining dimensions. "
      ],
      "metadata": {
        "id": "uu-3em9aU71k"
      }
    },
    {
      "cell_type": "code",
      "source": [
        "##  This model runs a linear layer and then a flatten layer sequentially.  \n",
        "\n",
        "class PolyModel(torch.nn.Module):\n",
        "  \n",
        "  def __init__(self):\n",
        "    super(PolyModel, self).__init__()\n",
        "    self.linear = torch.nn.Linear(3, 1)\n",
        "    self.flatten = torch.nn.Flatten(0, 1)\n",
        "\n",
        "  def forward(self, x):\n",
        "    return self.flatten(self.linear(x))"
      ],
      "metadata": {
        "id": "CJ69TtbQP-Xq"
      },
      "execution_count": 34,
      "outputs": []
    },
    {
      "cell_type": "markdown",
      "source": [
        "Now we will make the DataLoader for this dataset. First we need to produce a pytorch dataset from `X` and `Y`. A guide to creating a custom dataset can be found [here](https://pytorch.org/tutorials/beginner/basics/data_tutorial.html#creating-a-custom-dataset-for-your-files)."
      ],
      "metadata": {
        "id": "hRf1jsOhXZn1"
      }
    },
    {
      "cell_type": "code",
      "source": [
        "class PolyDataset(torch.utils.data.Dataset):\n",
        "  def __init__(self, X, y):\n",
        "    self.X = X\n",
        "    self.y = y\n",
        "    self.len = self.X.shape[0]\n",
        "\n",
        "  def __getitem__(self, index):\n",
        "    return self.X[index], self.y[index]\n",
        "\n",
        "  def __len__(self):\n",
        "    return self.len"
      ],
      "metadata": {
        "id": "bZwVBBzIYQjw"
      },
      "execution_count": 35,
      "outputs": []
    },
    {
      "cell_type": "markdown",
      "source": [
        "Now we need to create a coresponding DataLoader object, which will serve up (X, y) pairs. In the DataLoader we need to specify a _batch size_, which indicated how many pairs are served simultaneously. We could serve all at once, as in the previous example, but here we'll just use a more common value, 64. "
      ],
      "metadata": {
        "id": "oaDWzaUgaDWY"
      }
    },
    {
      "cell_type": "code",
      "source": [
        "data = PolyDataset(xx, y)\n",
        "poly_dataloader = torch.utils.data.DataLoader(dataset=data, batch_size=64, shuffle=True)"
      ],
      "metadata": {
        "id": "kxmtJMxMaX49"
      },
      "execution_count": 36,
      "outputs": []
    },
    {
      "cell_type": "markdown",
      "source": [
        "In the previous problem we defined our Loss Function by hand. PyTorch has a wide variety of Loss Functions already implemented, and we can use one of them here:"
      ],
      "metadata": {
        "id": "t59go0rmbDfg"
      }
    },
    {
      "cell_type": "code",
      "source": [
        "loss_fn = torch.nn.MSELoss()"
      ],
      "metadata": {
        "id": "T0GTORtZbTAu"
      },
      "execution_count": 37,
      "outputs": []
    },
    {
      "cell_type": "markdown",
      "source": [
        "A final piece of the PyTorch training loop is the Optimizer, which is responsible for updating the parameters of our model. One common Optimizer is the Stochastic Gradient Descent optimizer (`torch.optim.SGD`). An optimizer is constructed by passing it the model parameters we want it to optimize for us. "
      ],
      "metadata": {
        "id": "194OfCdWbXaE"
      }
    },
    {
      "cell_type": "code",
      "source": [
        "model = PolyModel()\n",
        "learning_rate = 1e-4\n",
        "optimizer = torch.optim.SGD(model.parameters(), lr = learning_rate)"
      ],
      "metadata": {
        "id": "uDF-LnUQbvA1"
      },
      "execution_count": 38,
      "outputs": []
    },
    {
      "cell_type": "markdown",
      "source": [
        "Now we can create a more PyTorch-y training loop for the problem. It follow the same basic format as before, but without many of the tedious steps because of the PyTorch objects being used. "
      ],
      "metadata": {
        "id": "qe3wdAPoao-T"
      }
    },
    {
      "cell_type": "code",
      "source": [
        "from tqdm import tqdm\n",
        "\n",
        "# TODO: fill in the missing lines in the training loop\n",
        "n_epochs = 500\n",
        "\n",
        "for _ in tqdm(range(n_epochs)):\n",
        "\n",
        "  for X, Y in poly_dataloader:\n",
        "\n",
        "    # Create predictions by running the model on X\n",
        "    preds = \n",
        "\n",
        "    # Compute the loss with the loss function defined above\n",
        "    loss = \n",
        "\n",
        "    # Zero the optimizer grads by calling optimizer.zero_grad()\n",
        "\n",
        "    # Call the `backward` function on the loss to compute the gradients\n",
        "\n",
        "    # Call `step` on the optimzer to update the parameters\n"
      ],
      "metadata": {
        "id": "ue0KP73Na289"
      },
      "execution_count": null,
      "outputs": []
    },
    {
      "cell_type": "markdown",
      "source": [
        "When the training loop is finished, we can again compare the two functions"
      ],
      "metadata": {
        "id": "qnn48lEedswP"
      }
    },
    {
      "cell_type": "code",
      "source": [
        "with torch.no_grad():\n",
        "  model_preds = model(xx).detach().numpy()\n",
        "\n",
        "plt.plot(x, y, label='f(x) = sin(x)')\n",
        "plt.plot(x, model_preds, label = 'Estimated params')\n",
        "plt.legend()\n",
        "plt.show()"
      ],
      "metadata": {
        "id": "szKlDekLd5R0",
        "colab": {
          "base_uri": "https://localhost:8080/",
          "height": 265
        },
        "outputId": "c89d2b19-cee4-4393-b94b-e0d10ee7b0e4"
      },
      "execution_count": 40,
      "outputs": [
        {
          "output_type": "display_data",
          "data": {
            "text/plain": [
              "<Figure size 432x288 with 1 Axes>"
            ],
            "image/png": "[encoded data removed]"
          },
          "metadata": {
            "needs_background": "light"
          }
        }
      ]
    },
    {
      "cell_type": "markdown",
      "source": [
        "##### c) **Approximting a nonlinear function**\n",
        "\n",
        "(Adapted from [datacamp](https://www.datacamp.com/tutorial/pytorch-tutorial-building-a-simple-neural-network-from-scratch))\n",
        "\n",
        "In this exercise we will train a simple neural net to predict which nonlinearlly-seperated cluster a data point belongs too. Here is the dataset we will be using:"
      ],
      "metadata": {
        "id": "qEK_tWaHfjzG"
      }
    },
    {
      "cell_type": "code",
      "source": [
        "from sklearn.datasets import make_blobs\n",
        "\n",
        "X, y = make_blobs(n_samples = 1000, n_features = 2, centers = 4, random_state = 20)\n",
        "plt.scatter(X[:,0], X[:,1], c=y)\n",
        "plt.show()"
      ],
      "metadata": {
        "id": "w7KxGByghJsP",
        "colab": {
          "base_uri": "https://localhost:8080/",
          "height": 265
        },
        "outputId": "01335296-9226-4e3c-da22-e66c899cf33c"
      },
      "execution_count": 55,
      "outputs": [
        {
          "output_type": "display_data",
          "data": {
            "text/plain": [
              "<Figure size 432x288 with 1 Axes>"
            ],
            "image/png": "[encoded data removed]"
          },
          "metadata": {
            "needs_background": "light"
          }
        }
      ]
    },
    {
      "cell_type": "markdown",
      "source": [
        "In this exercise you will need to:\n",
        "\n",
        "1. Create a Dataset class and associated DataLoader that serves up X, y pairs\n",
        "2. Create a custom neural model with three layers:\n",
        "  - An 2-d input layer (the original data)\n",
        "  - A 10-d hidden layer (fully connected)\n",
        "  - A n-d (where n=number of blobs, 4 in this case) output layer\n",
        "\n",
        "  The model will also have two _activation_ functions: a nonlinear `ReLu` function on the hidden layer and a `softmax` function on the output layer. \n",
        "\n",
        "3. Initialize a loss function and optimizer for this problem\n",
        "\n",
        "4. Create and run a training loop (similar to above) to teach the model how to predict clusters. \n",
        "\n",
        "5. Evalute the model's preformance. \n",
        "\n",
        "We provide some code, but you will need to do most on your own, following previous examples."
      ],
      "metadata": {
        "id": "MdZXyhDVhzmC"
      }
    },
    {
      "cell_type": "markdown",
      "source": [
        "**1. Create Datasets and DataLoaders for this dataset**\n"
      ],
      "metadata": {
        "id": "nzN1UsANkd7z"
      }
    },
    {
      "cell_type": "code",
      "source": [
        "### Randomly split the data into a test and training set: 80% train and 20% test\n",
        "\n",
        "### Create a custom dataset class for this data, following the example above\n",
        "# You will likely need to use the torch.from_numpy function\n",
        "\n",
        "# Initialize a train dataset and associated train dataloader . Use batch_size = 64\n",
        "\n",
        "train_dataloader = \n",
        "\n",
        "# Initialize a train dataset and associated train dataloader. Use batch_size = 1.\n",
        "\n",
        "test_dataloader = "
      ],
      "metadata": {
        "id": "kgu2Wofbkj5W"
      },
      "execution_count": 64,
      "outputs": []
    },
    {
      "cell_type": "markdown",
      "source": [
        "**2. Create a neural model for this data**\n",
        "\n",
        "Here we will create a custom model for this problem. Follow the instructions provided in comments for each layer, and then create the `forward` method to run data through each of them sequentially. This model uses [Linear](https://pytorch.org/docs/stable/generated/torch.nn.Linear.html) layers and [ReLU](https://pytorch.org/docs/stable/generated/torch.nn.ReLU.html) and [SoftMax](https://pytorch.org/docs/stable/generated/torch.nn.Softmax.html) activation functions. "
      ],
      "metadata": {
        "id": "Qkv9bAbulkmK"
      }
    },
    {
      "cell_type": "code",
      "source": [
        "class CustomModel(torch.nn.Module):\n",
        "  \n",
        "  def __init__(self):\n",
        "    super(CustomModel, self).__init__()\n",
        "    # Create a linear layer from 2 to 10 dimensions\n",
        "\n",
        "    # Create a ReLU activation 'layer'\n",
        "\n",
        "    # Create a linear layer from 10 to 4 dimensions\n",
        "\n",
        "    # Create a softmax 'layer'\n",
        "\n",
        "  # Write the forward method to apply each of the layers sequentially in the order they were defined above\n",
        "  def forward(self, x):\n",
        "    return "
      ],
      "metadata": {
        "id": "L516jGYHki-X"
      },
      "execution_count": 65,
      "outputs": []
    },
    {
      "cell_type": "markdown",
      "source": [
        "**3. Initialize Loss and Optimizer**\n",
        "\n",
        "In this problem we will use [Cross Entropy Loss](https://pytorch.org/docs/stable/generated/torch.nn.CrossEntropyLoss.html). Intunitively, Cross Entropy Loss \"rewards\" models that produce a high value corresponding to the correct class and very low values for the other classes. "
      ],
      "metadata": {
        "id": "kQVVZmrXmu7V"
      }
    },
    {
      "cell_type": "code",
      "source": [
        "learning_rate = 0.1\n",
        "\n",
        "## Initialize a Cross Entropy Loss Function\n",
        "\n",
        "## Initializer the model and optimizer\n",
        "model = \n",
        "optimizer = torch.optim.SGD(model.parameters(), lr = learning_rate)"
      ],
      "metadata": {
        "id": "GMuDld64mq7m"
      },
      "execution_count": 66,
      "outputs": []
    },
    {
      "cell_type": "markdown",
      "source": [
        "**4. Create and run a training loop for this problem. See above for an example**\n",
        "\n",
        "Fill in the missing steps. Training loops implemented with PyTorch tend to look _very_ similar.\n"
      ],
      "metadata": {
        "id": "EI7e70hSpZqi"
      }
    },
    {
      "cell_type": "code",
      "source": [
        "from tqdm import tqdm\n",
        "\n",
        "# TODO: fill in the missing lines in the training loop\n",
        "\n",
        "n_epochs = 100\n",
        "\n",
        "for _ in tqdm(range(n_epochs)):\n",
        "\n",
        "  for X, y in train_dataloader:\n",
        "\n",
        "    # Create predictions by running the model\n",
        "\n",
        "    # Compute the loss with the loss function defined above\n",
        "\n",
        "    # Zero the optimizer grads by calling optimizer.zero_grad()\n",
        "\n",
        "    # Call the `backward` function on the loss to compute the gradients\n",
        "\n",
        "    # Call `step` on the optimzer to update the parameters\n"
      ],
      "metadata": {
        "id": "grHtgZ90pPFo"
      },
      "execution_count": null,
      "outputs": []
    },
    {
      "cell_type": "markdown",
      "source": [
        "**5. Evaluate the Model**\n",
        "\n",
        "Run the model on each value in your test dataloader. How does the model do? We use `torch.no_grad` to tell the model not to track gradients for these observations. Model preformance may vary, but if you see less that 95% accuracy you may need to double check your model design. "
      ],
      "metadata": {
        "id": "WBogG_idp8Lv"
      }
    },
    {
      "cell_type": "code",
      "source": [
        "n_correct = 0\n",
        "\n",
        "with torch.no_grad():\n",
        "  for X, y in test_dataloader:\n",
        "    # TODO: Check if the model has predicted this observation accurately. The predicted class is the index of the highest value in the output (hint: use np.argmax)\n",
        "\n",
        "print(n_correct / len(test_data))"
      ],
      "metadata": {
        "id": "OQ2gMz5_pmJ_",
        "colab": {
          "base_uri": "https://localhost:8080/"
        },
        "outputId": "4bf4e8c4-2690-433f-8502-0b31f476126b"
      },
      "execution_count": 69,
      "outputs": [
        {
          "output_type": "stream",
          "name": "stdout",
          "text": [
            "1.0\n"
          ]
        },
        {
          "output_type": "stream",
          "name": "stderr",
          "text": [
            "<ipython-input-65-24a46cad0a29>:19: UserWarning: Implicit dimension choice for softmax has been deprecated. Change the call to include dim=X as an argument.\n",
            "  return self.softmax(self.linear_two(self.relu(self.linear_one(x))))\n"
          ]
        }
      ]
    },
    {
      "cell_type": "markdown",
      "source": [
        "##### **d) Classifying Handwritten Digits**\n",
        "\n",
        "(Adapted from [Nextjournal](https://nextjournal.com/gkoehler/pytorch-mnist))\n",
        "\n",
        "In this final exercise, we will repeat the same steps, but for a new dataset, and with a new kind of model. The dataset we'll be working with is the NMIST Digits dataset (you've probably encountered this set before if you've taken other ML/Deep Learning Courses). \n",
        "\n",
        "Here we'll grab the dataset and show a few examples:"
      ],
      "metadata": {
        "id": "8vcTIT4sCXXY"
      }
    },
    {
      "cell_type": "code",
      "source": [
        "from matplotlib import pyplot as plt\n",
        "import torch\n",
        "import torchvision\n",
        "  \n",
        "train_data = torchvision.datasets.MNIST('/files/', train=True, download=True)\n",
        "test_data = torchvision.datasets.MNIST('/files/', train=False, download=True)\n",
        "\n",
        "fig = plt.figure()\n",
        "for i in range(6):\n",
        "  plt.subplot(2,3,i+1)\n",
        "  plt.tight_layout()\n",
        "  plt.imshow(train_data[i][0], cmap='gray', interpolation='none')\n",
        "  plt.title(\"Ground Truth: {}\".format(train_data[i][1]))\n",
        "  plt.xticks([])\n",
        "  plt.yticks([])\n",
        "fig"
      ],
      "metadata": {
        "id": "yUAvpDbzCy7n"
      },
      "execution_count": null,
      "outputs": []
    },
    {
      "cell_type": "markdown",
      "source": [
        "Our goal here is very simple: given the image of a digit presented here, train a model to determine which digit is shown. Of course, this is trivial for humans, but extremely difficult for a computer without neural methods. \n",
        "\n",
        "In this case, we will use a Convolutional Neural Net (CNN) to classify images. The process will take a nearly identical form as the earlier example, with only a slightly more complex model, reflecting the more complex nature of the task. "
      ],
      "metadata": {
        "id": "G60X9slDYdWH"
      }
    },
    {
      "cell_type": "markdown",
      "source": [
        "**1. Create Datasets and Dataloaders**\n",
        "\n",
        "Lines to bring in the data and transform to a reasonable format for PyTorch is provided. You will just need to set up a DataLoader object."
      ],
      "metadata": {
        "id": "l1a9LbD6bZIN"
      }
    },
    {
      "cell_type": "code",
      "source": [
        "#Create the datasets\n",
        "train_dataset = torchvision.datasets.MNIST('/files/', train=True, download=True,\n",
        "                             transform=torchvision.transforms.Compose([\n",
        "                               torchvision.transforms.ToTensor(),\n",
        "                               torchvision.transforms.Normalize(\n",
        "                                 (0.1307,), (0.3081,))\n",
        "                             ]))\n",
        "\n",
        "test_dataset = torchvision.datasets.MNIST('/files/', train=False, download=True,\n",
        "                             transform=torchvision.transforms.Compose([\n",
        "                               torchvision.transforms.ToTensor(),\n",
        "                               torchvision.transforms.Normalize(\n",
        "                                 (0.1307,), (0.3081,))\n",
        "                             ]))\n",
        "\n",
        "train_batch_size = 64\n",
        "test_batch_size = 1\n",
        "\n",
        "# TODO: Create test and train DataLoaders for this dataset\n",
        "train_loader = \n",
        "test_loader ="
      ],
      "metadata": {
        "id": "yZfJ-odNDRxW"
      },
      "execution_count": 71,
      "outputs": []
    },
    {
      "cell_type": "markdown",
      "source": [
        "**2. Create a neural model for this data**\n",
        "\n",
        "Here we will create a custom model for this problem. Follow the instructions provided in comments for each layer, and then create the `forward` method to run data through each of them sequentially. \n",
        "\n",
        "In this model we will use the following parts, each of which is the composition of a few layers (except step 3, which is done for you):\n",
        "\n",
        "\n",
        "1.   A 5x5 [convolutional layer](https://pytorch.org/docs/stable/generated/torch.nn.Conv2d.html) with 1 input channel and 10 output channels. Follow this layer with a 2x2 [max pool step](https://pytorch.org/docs/stable/generated/torch.nn.MaxPool2d.html) and a [ReLU function](https://pytorch.org/docs/stable/generated/torch.nn.ReLU.html)\n",
        "2.   A 5x5 [convolutional layer](https://pytorch.org/docs/stable/generated/torch.nn.Conv2d.html) with 10 input channels and 20 output channels. Follow this layer with a [2d dropout step](https://pytorch.org/docs/stable/generated/torch.nn.Dropout2d.html), a 2x2 [max pool step](https://pytorch.org/docs/stable/generated/torch.nn.MaxPool2d.html), and a [ReLU function](https://pytorch.org/docs/stable/generated/torch.nn.ReLU.html). \n",
        "3. A step that [flattens](https://pytorch.org/docs/stable/generated/torch.Tensor.view.html) the data into a 1-d tensor (provided)\n",
        "4. A [fully connected (linear)](https://pytorch.org/docs/stable/generated/torch.nn.Linear.html) layer with 320 input features and 50 output features, followed by a [ReLU function](https://pytorch.org/docs/stable/generated/torch.nn.ReLU.html) and _then_ a [1-d dropout step](https://pytorch.org/docs/stable/generated/torch.nn.Dropout1d.html). \n",
        "5. A final [full connected (linear)](https://pytorch.org/docs/stable/generated/torch.nn.Linear.html) layer with 50 input features and 10 output features. These final 10 features will each represent one of the possible digits. Follow this layer with a [softmax](https://pytorch.org/docs/stable/generated/torch.nn.Softmax.html). \n",
        "\n",
        "We don't go into detail here regarding what exactly each of these layers are doing, but please take a moment to review the PyTorch documentation if you're not familar with these core functions. "
      ],
      "metadata": {
        "id": "6_3UU1WxcQrF"
      }
    },
    {
      "cell_type": "code",
      "source": [
        "class DigitsModel(torch.nn.Module):\n",
        "  def __init__(self):\n",
        "    super(DigitsModel, self).__init__()\n",
        "\n",
        "    # TODO: Define each of the layers described above, in order\n",
        "\n",
        "    ## 1: First convolutional layer, with additional maxpool and relu steps\n",
        "    self.conv1 = \n",
        "    self.maxpool1 = \n",
        "    self.relu1 = \n",
        "\n",
        "    ## 2: Second convolutional layer, with additional steps\n",
        "    self.conv2 = \n",
        "    self.dropout1 = \n",
        "    self.maxpool2 =\n",
        "    self.relu2 = \n",
        "\n",
        "    ## 4: First fully connected layer, with additional steps\n",
        "    self.fc1 = \n",
        "    self.relu3 = \n",
        "    self.dropout2 = \n",
        "\n",
        "    ## 5: Second fully connected layer, with additional steps\n",
        "    self.fc2 = \n",
        "    self.softmax = \n",
        "\n",
        "  def forward(self, x):\n",
        "    # Step 1: output shape should be 64x10x12x12\n",
        "    x = self.relu1(self.maxpool1(self.conv1(x)))\n",
        "\n",
        "    # Step 2: output shape should be 64x20x4x4\n",
        "    x = self.relu2(self.maxpool2(self.dropout1(self.conv2(x))))\n",
        "\n",
        "    # Step 3: output shape should be 64x320\n",
        "    x = x.view(-1, 320)\n",
        "\n",
        "    # Step 4: output shape should be 64x50\n",
        "    x = self.dropout2(self.relu3(self.fc1(x)))\n",
        "\n",
        "    # Step 5: output shape should be 64x10\n",
        "    x = self.softmax(self.fc2(x))\n",
        "\n",
        "    # Return the output\n",
        "    return x"
      ],
      "metadata": {
        "id": "OhijGLPhb6Fq"
      },
      "execution_count": 72,
      "outputs": []
    },
    {
      "cell_type": "markdown",
      "source": [
        "**3. Create a loss function and optimizer**\n",
        "\n",
        "We again use Cross Entropy Loss and a SGD Optimizer for this problem! This should look _very_ similar to the loss function and optimizer from the last problem. Since we are using a larger model, we'll run this training on a GPU. Calling `model.cuda()` as seen below, moves the model to a GPU resource. With this optimizer we also introduce _momentum_, which will be discussed at length later in the course. For now, pass `momentum` as a parameter into the optimizer.  "
      ],
      "metadata": {
        "id": "Iw3kk86EuszL"
      }
    },
    {
      "cell_type": "code",
      "source": [
        "learning_rate = 0.01\n",
        "momentum = 0.5\n",
        "\n",
        "## Initialize Cross Entropy Loss Function\n",
        "\n",
        "## Initializer the model and optimizer\n",
        "model = \n",
        "model = model.cuda()\n",
        "optimizer = "
      ],
      "metadata": {
        "id": "cg0BdBtLs8jr"
      },
      "execution_count": 73,
      "outputs": []
    },
    {
      "cell_type": "markdown",
      "source": [
        "**4. Create and run a training loop for this problem**\n",
        "\n",
        "Again, training looks tend to look very similar, since most of the logic is abstracted away. In Colab with a GPU, this process seems to take about two minutes. "
      ],
      "metadata": {
        "id": "2gnJBjz7vsXK"
      }
    },
    {
      "cell_type": "code",
      "source": [
        "from tqdm import tqdm\n",
        "\n",
        "# TODO: fill in the missing lines in the training loop\n",
        "\n",
        "n_epochs = 10\n",
        "\n",
        "for _ in tqdm(range(n_epochs)):\n",
        "\n",
        "  for X, y in train_loader:\n",
        "\n",
        "    # Move X and y to the GPU\n",
        "    \n",
        "    # Create predictions by running the model\n",
        "\n",
        "    # Compute the loss with the loss function defined above\n",
        "\n",
        "    # Zero the optimizer grads by calling optimizer.zero_grad()\n",
        "\n",
        "    # Call the `backward` function on the loss to compute the gradients\n",
        "\n",
        "    # Call `step` on the optimzer to update the parameters\n"
      ],
      "metadata": {
        "id": "cpKlXOfZuPX4"
      },
      "execution_count": null,
      "outputs": []
    },
    {
      "cell_type": "markdown",
      "source": [
        "**5. Evaluate the Model**\n",
        "\n",
        "Run the model on the first 100 values in your test dataloader. How does the model do? This should also look very similar to the previous example. Preformance may vary, but if you see accuracy <60% consider checking if there may be a mistake in the model. \n",
        "\n",
        "Note that we use `model.eval()` to switch the model from training mode into evaluation mode. This is **very important**. The dropout layers will still \"dropout\" important features if not used here. "
      ],
      "metadata": {
        "id": "KysW4677w1y5"
      }
    },
    {
      "cell_type": "code",
      "source": [
        "count = 0\n",
        "model.eval()\n",
        "\n",
        "with torch.no_grad():\n",
        "  for X, y in test_loader:\n",
        "    count += 1\n",
        "    if count > 100:\n",
        "      break\n",
        "    \n",
        "    # Move X and y to the GPU\n",
        "\n",
        "    # Run the model on X. Move the output back to the CPU for comparison\n",
        "\n",
        "    # Check if the model has predicted accurately \n",
        "    \n"
      ],
      "metadata": {
        "id": "Tqn6_OoVvxh4"
      },
      "execution_count": null,
      "outputs": []
    }
  ]
}